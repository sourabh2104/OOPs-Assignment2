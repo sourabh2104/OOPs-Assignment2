{
 "cells": [
  {
   "cell_type": "code",
   "execution_count": 1,
   "id": "06d6d832-ebce-41d0-8a8b-ae08126367fa",
   "metadata": {},
   "outputs": [],
   "source": [
    "# OOPs-Assignment!!"
   ]
  },
  {
   "cell_type": "code",
   "execution_count": 2,
   "id": "a54a0efa-4f8a-49f9-adc7-f5658d27ae99",
   "metadata": {},
   "outputs": [],
   "source": [
    "# CONSTRUCTOR...!!"
   ]
  },
  {
   "cell_type": "code",
   "execution_count": 3,
   "id": "7ba9bcba-6766-4792-821b-3b0f8cd51bc7",
   "metadata": {},
   "outputs": [
    {
     "data": {
      "text/plain": [
       "\" Constructor in Python:\\n\\nA constructor in Python is a special method that gets called when an object is created. It initializes the object's attributes and performs any necessary setup.\\nIts purpose is to set the initial state of the object.\\nThe constructor method is named __init__ in Python.\""
      ]
     },
     "execution_count": 3,
     "metadata": {},
     "output_type": "execute_result"
    }
   ],
   "source": [
    "# 1. What is a constructor in Python? Explain its purpose and usage.\n",
    "\n",
    "''' Constructor in Python:\n",
    "\n",
    "A constructor in Python is a special method that gets called when an object is created. It initializes the object's attributes and performs any necessary setup.\n",
    "Its purpose is to set the initial state of the object.\n",
    "The constructor method is named __init__ in Python.'''"
   ]
  },
  {
   "cell_type": "code",
   "execution_count": 4,
   "id": "fe2c64f0-824b-4fe8-9eed-f804c4342692",
   "metadata": {},
   "outputs": [
    {
     "data": {
      "text/plain": [
       "' Parameterless vs. Parameterized Constructor:\\n\\nA parameterless constructor takes no arguments and initializes the object with default values.\\nA parameterized constructor takes one or more arguments and initializes the object with provided values.'"
      ]
     },
     "execution_count": 4,
     "metadata": {},
     "output_type": "execute_result"
    }
   ],
   "source": [
    "# 2. Differentiate between a parameterless constructor and a parameterized constructor in Python.\n",
    "\n",
    "''' Parameterless vs. Parameterized Constructor:\n",
    "\n",
    "A parameterless constructor takes no arguments and initializes the object with default values.\n",
    "A parameterized constructor takes one or more arguments and initializes the object with provided values.'''"
   ]
  },
  {
   "cell_type": "code",
   "execution_count": 6,
   "id": "23915dc2-30c7-42e3-9cd5-e5401f833986",
   "metadata": {},
   "outputs": [
    {
     "name": "stdout",
     "output_type": "stream",
     "text": [
      "value1\n",
      "value2\n"
     ]
    }
   ],
   "source": [
    "# 3. How do you define a constructor in a Python class? Provide an example.\n",
    "\n",
    "class MyClass:\n",
    "    def __init__(self, param1, param2):\n",
    "        self.param1 = param1\n",
    "        self.param2 = param2\n",
    "        # Additional constructor code here, if needed\n",
    "        # For example, you can perform some calculations or setup within the constructor\n",
    "\n",
    "# Creating an object of the MyClass class\n",
    "my_object = MyClass(\"value1\", \"value2\")\n",
    "\n",
    "# Accessing the attributes of the object\n",
    "print(my_object.param1)\n",
    "print(my_object.param2)\n",
    "\n",
    "        # This is a constructor code example!\n"
   ]
  },
  {
   "cell_type": "code",
   "execution_count": 7,
   "id": "0e99bd8b-0fc2-4b18-ab78-407364a7ed9d",
   "metadata": {},
   "outputs": [
    {
     "data": {
      "text/plain": [
       "' __init__ Method:\\n\\nThe __init__ method is a special method in Python classes that is automatically called when an object is created.\\nIt is used to initialize the attributes of the object.\\n'"
      ]
     },
     "execution_count": 7,
     "metadata": {},
     "output_type": "execute_result"
    }
   ],
   "source": [
    "# 4. Explain the `__init__` method in Python and its role in constructors.\n",
    "\n",
    "''' __init__ Method:\n",
    "\n",
    "The __init__ method is a special method in Python classes that is automatically called when an object is created.\n",
    "It is used to initialize the attributes of the object.\n",
    "'''"
   ]
  },
  {
   "cell_type": "code",
   "execution_count": 8,
   "id": "f5746427-b162-48c3-960f-a6c4cb1cdb30",
   "metadata": {},
   "outputs": [],
   "source": [
    "# 5. In a class named `Person`, create a constructor that initializes the `name` and `age` attributes. Provide an example of creating an object of this class.\n",
    "\n",
    "# Example of a 'Person' Class:\n",
    "\n",
    "class Person:\n",
    "    def __init__(self, name, age):\n",
    "        self.name = name\n",
    "        self.age = age\n",
    "\n",
    "# Creating an object of the Person class\n",
    "person1 = Person(\"Sourabh\", 20)\n"
   ]
  },
  {
   "cell_type": "code",
   "execution_count": 10,
   "id": "760a3b94-af80-4008-ab58-00a4987ac62f",
   "metadata": {},
   "outputs": [
    {
     "name": "stdout",
     "output_type": "stream",
     "text": [
      "Surya\n",
      "25\n"
     ]
    }
   ],
   "source": [
    "# 6. How can you call a constructor explicitly in Python? Give an example.\n",
    "\n",
    "''' Calling a Constructor Explicitly:\n",
    "\n",
    "Constructors are usually called implicitly when an object is created. However, you can call them explicitly using the class name.'''\n",
    "\n",
    "class Person:\n",
    "    def __init__(self, name, age):\n",
    "        self.name = name\n",
    "        self.age = age\n",
    "\n",
    "# Correct way to create an object and call the constructor explicitly\n",
    "person2 = Person.__new__(Person)  # Creating an instance of the class\n",
    "Person.__init__(person2, \"Surya\", 25)  # Explicit constructor call\n",
    "\n",
    "# Accessing the attributes of the object\n",
    "print(person2.name)\n",
    "print(person2.age)\n"
   ]
  },
  {
   "cell_type": "code",
   "execution_count": 11,
   "id": "ab771f41-510d-4726-831c-34ba2814415a",
   "metadata": {},
   "outputs": [
    {
     "name": "stdout",
     "output_type": "stream",
     "text": [
      "42\n"
     ]
    }
   ],
   "source": [
    "# 7. What is the significance of the `self` parameter in Python constructors? Explain with an example.\n",
    "\n",
    "''' Significance of self Parameter:\n",
    "\n",
    "The self parameter refers to the instance of the class and is used to access and modify class attributes.'''\n",
    "\n",
    "# Example:\n",
    "\n",
    "class Example:\n",
    "    def __init__(self, value):\n",
    "        self.value = value\n",
    "\n",
    "obj = Example(42)\n",
    "print(obj.value)  \n"
   ]
  },
  {
   "cell_type": "code",
   "execution_count": 12,
   "id": "cfcdbcc7-0fb2-45df-93c8-33447add3be2",
   "metadata": {},
   "outputs": [
    {
     "data": {
      "text/plain": [
       "\" Default Constructors:\\n\\nIn Python, if you don't define a constructor, a default constructor is provided automatically.\\nIt initializes the object with default values.\""
      ]
     },
     "execution_count": 12,
     "metadata": {},
     "output_type": "execute_result"
    }
   ],
   "source": [
    "# 8. Discuss the concept of default constructors in Python. When are they used?\n",
    "\n",
    "''' Default Constructors:\n",
    "\n",
    "In Python, if you don't define a constructor, a default constructor is provided automatically.\n",
    "It initializes the object with default values.'''\n",
    "\n"
   ]
  },
  {
   "cell_type": "code",
   "execution_count": 13,
   "id": "90e110da-d825-40e9-a01c-6afa7d061bae",
   "metadata": {},
   "outputs": [],
   "source": [
    "# 9. Create a Python class called `Rectangle` with a constructor that initializes the `width` and `height`\n",
    "\n",
    "# Rectangle Class Example:\n",
    "\n",
    "class Rectangle:\n",
    "    def __init__(self, width, height):\n",
    "        self.width = width\n",
    "        self.height = height\n",
    "\n",
    "    def calculate_area(self):\n",
    "        return self.width * self.height\n",
    "\n",
    "# Creating an object of the Rectangle class\n",
    "rectangle1 = Rectangle(5, 10)\n",
    "area = rectangle1.calculate_area()\n"
   ]
  },
  {
   "cell_type": "code",
   "execution_count": 15,
   "id": "112ea757-f693-4f0b-a519-2dec9ea0bb51",
   "metadata": {},
   "outputs": [],
   "source": [
    "# 10. How can you have multiple constructors in a Python class? Explain with an example.  explain each program line by line and use comments inside the code line by line\n",
    "\n",
    "''' Multiple Constructors:\n",
    "\n",
    "Python does not support multiple constructors directly.\n",
    "You can achieve similar functionality using default values for constructor parameters.'''\n",
    "\n",
    "class Example:\n",
    "    def __init__(self, param1=None, param2=None):\n",
    "        if param1 is None:\n",
    "            # constructor logic with default values\n",
    "            pass  # Placeholder to avoid an empty block error\n",
    "        else:\n",
    "            # constructor logic with provided values\n",
    "            pass  # Placeholder to avoid an empty block error\n",
    "\n"
   ]
  },
  {
   "cell_type": "code",
   "execution_count": 16,
   "id": "08eee7a1-11c1-44d2-825a-da212609bb91",
   "metadata": {},
   "outputs": [
    {
     "data": {
      "text/plain": [
       "' Method Overloading and Constructors in Python:\\nMethod overloading in Python refers to the ability to define multiple methods with the same name in a class but with different parameters. However, Python does not support traditional method overloading based on the number or types of parameters.\\n\\nConstructors in Python are special methods that are automatically called when an object of a class is created. In Python, you can simulate method overloading by using default values for parameters in constructors.'"
      ]
     },
     "execution_count": 16,
     "metadata": {},
     "output_type": "execute_result"
    }
   ],
   "source": [
    "# 11. What is method overloading, and how is it related to constructors in Python?\n",
    "\n",
    "''' Method Overloading and Constructors in Python:\n",
    "Method overloading in Python refers to the ability to define multiple methods with the same name in a class but with different parameters. However, Python does not support traditional method overloading based on the number or types of parameters.\n",
    "\n",
    "Constructors in Python are special methods that are automatically called when an object of a class is created. In Python, you can simulate method overloading by using default values for parameters in constructors.'''\n",
    "\n",
    "\n"
   ]
  },
  {
   "cell_type": "code",
   "execution_count": 17,
   "id": "15a60c81-0e66-4953-af05-c5d793645df5",
   "metadata": {},
   "outputs": [
    {
     "data": {
      "text/plain": [
       "' Use of super() in Python Constructors:\\nThe super() function in Python is used to call a method from the parent class. In the context of constructors, it is often used to call the constructor of the parent class.\\n\\n '"
      ]
     },
     "execution_count": 17,
     "metadata": {},
     "output_type": "execute_result"
    }
   ],
   "source": [
    "# 12. Explain the use of the `super()` function in Python constructors. Provide an example.\n",
    "\n",
    "''' Use of super() in Python Constructors:\n",
    "The super() function in Python is used to call a method from the parent class. In the context of constructors, it is often used to call the constructor of the parent class.\n",
    "\n",
    " '''"
   ]
  },
  {
   "cell_type": "code",
   "execution_count": 18,
   "id": "527eb31c-3b37-4f3c-be5f-033534216d0b",
   "metadata": {},
   "outputs": [
    {
     "name": "stdout",
     "output_type": "stream",
     "text": [
      "Title: Python Programming, Author: Guido van Rossum, Published Year: 2020\n"
     ]
    }
   ],
   "source": [
    "# 13. Create a class called `Book` with a constructor that initializes the `title`, `author`, and `published_year`\n",
    "\n",
    "# Class Book with Display Method:\n",
    "\n",
    "\n",
    "class Book:\n",
    "    def __init__(self, title, author, published_year):\n",
    "        self.title = title\n",
    "        self.author = author\n",
    "        self.published_year = published_year\n",
    "\n",
    "    def display_details(self):\n",
    "        print(f\"Title: {self.title}, Author: {self.author}, Published Year: {self.published_year}\")\n",
    "\n",
    "# Usage\n",
    "book_obj = Book(\"Python Programming\", \"sourabh\", 2023)\n",
    "book_obj.display_details()\n"
   ]
  },
  {
   "cell_type": "code",
   "execution_count": 19,
   "id": "eaa813fd-371e-4f5b-a611-49c608bc64c9",
   "metadata": {},
   "outputs": [
    {
     "data": {
      "text/plain": [
       "\" Differences between Constructors and Regular Methods:\\nConstructors are special methods called when an object is created, while regular methods are called on objects that already exist. Constructors initialize the object's attributes, while regular methods perform actions or computations \""
      ]
     },
     "execution_count": 19,
     "metadata": {},
     "output_type": "execute_result"
    }
   ],
   "source": [
    "# 14. Discuss the differences between constructors and regular methods in Python classes.\n",
    "\n",
    "''' Differences between Constructors and Regular Methods:\n",
    "Constructors are special methods called when an object is created, while regular methods are called on objects that already exist. Constructors initialize the object's attributes, while regular methods perform actions or computations '''\n",
    "\n"
   ]
  },
  {
   "cell_type": "code",
   "execution_count": 20,
   "id": "c94ba40d-705a-47af-b252-5a673e8f5838",
   "metadata": {},
   "outputs": [
    {
     "data": {
      "text/plain": [
       "' Role of self Parameter in Constructors:\\nThe self parameter in Python constructors refers to the instance of the class. It is used to access and initialize instance variables within the constructor. It represents the instance on which the method is called.\\n\\n '"
      ]
     },
     "execution_count": 20,
     "metadata": {},
     "output_type": "execute_result"
    }
   ],
   "source": [
    "# 15. Explain the role of the `self` parameter in instance variable initialization within a constructor.\n",
    "\n",
    "''' Role of self Parameter in Constructors:\n",
    "The self parameter in Python constructors refers to the instance of the class. It is used to access and initialize instance variables within the constructor. It represents the instance on which the method is called.\n",
    "\n",
    " '''"
   ]
  },
  {
   "cell_type": "code",
   "execution_count": 21,
   "id": "da802825-2d2e-46d2-99ac-950d3b9a780d",
   "metadata": {},
   "outputs": [
    {
     "name": "stdout",
     "output_type": "stream",
     "text": [
      "True\n"
     ]
    }
   ],
   "source": [
    "# 16. How do you prevent a class from having multiple instances by using constructors in Python? Provide an example.\n",
    "\n",
    "''' Preventing Multiple Instances:\n",
    "You can use a class variable to keep track of whether an instance has been created and prevent further instances. Example: '''\n",
    "\n",
    "class Singleton:\n",
    "    _instance = None\n",
    "\n",
    "    def __new__(cls):\n",
    "        if not cls._instance:\n",
    "            cls._instance = super().__new__(cls)\n",
    "        return cls._instance\n",
    "\n",
    "# Usage\n",
    "singleton_obj1 = Singleton()\n",
    "singleton_obj2 = Singleton()\n",
    "print(singleton_obj1 is singleton_obj2)  # Output: True\n"
   ]
  },
  {
   "cell_type": "code",
   "execution_count": 22,
   "id": "e9614d7a-16ae-4555-a8ab-5d3ec9a2a181",
   "metadata": {},
   "outputs": [
    {
     "name": "stdout",
     "output_type": "stream",
     "text": [
      "['Math', 'Science', 'History']\n"
     ]
    }
   ],
   "source": [
    "# 17. Create a Python class called `Student` with a constructor that takes a list of subjects as a parameter and initializes the `subjects` attribute.\n",
    "\n",
    "# Class Student with Subjects:\n",
    "\n",
    "class Student:\n",
    "    def __init__(self, subjects):\n",
    "        self.subjects = subjects\n",
    "\n",
    "# Usage\n",
    "student_obj = Student([\"Math\", \"Science\", \"History\"])\n",
    "print(student_obj.subjects)\n"
   ]
  },
  {
   "cell_type": "code",
   "execution_count": 23,
   "id": "e47f2f68-cdac-459b-84a8-7616a2a1e50f",
   "metadata": {},
   "outputs": [
    {
     "data": {
      "text/plain": [
       "' Purpose of __del__ Method:\\nThe __del__ method is called when an object is about to be destroyed. It is used for clean-up activities. It is not a constructor; it is invoked when an object is being garbage-collected.\\n\\n '"
      ]
     },
     "execution_count": 23,
     "metadata": {},
     "output_type": "execute_result"
    }
   ],
   "source": [
    "# 18. What is the purpose of the `__del__` method in Python classes, and how does it relate to constructors?\n",
    "\n",
    "''' Purpose of __del__ Method:\n",
    "The __del__ method is called when an object is about to be destroyed. It is used for clean-up activities. It is not a constructor; it is invoked when an object is being garbage-collected.\n",
    "\n",
    " '''"
   ]
  },
  {
   "cell_type": "code",
   "execution_count": 24,
   "id": "58e76120-229a-4bd0-9e03-ecd2e47bae3e",
   "metadata": {},
   "outputs": [],
   "source": [
    "# 19. Explain the use of constructor chaining in Python. Provide a practical example.\n",
    "\n",
    "''' Constructor Chaining:\n",
    "Constructor chaining in Python refers to calling one constructor from another within the same class.  '''\n",
    "\n",
    "# Example.!\n",
    "class MyClass:\n",
    "    def __init__(self, x):\n",
    "        self.x = x\n",
    "\n",
    "    def __init__(self, x, y):\n",
    "        self.x = x\n",
    "        self.y = y\n",
    "\n",
    "# Usage\n",
    "obj = MyClass(1, 2)\n",
    "\n",
    "# Here the second constructor initializes both 'x' and 'y'."
   ]
  },
  {
   "cell_type": "code",
   "execution_count": 26,
   "id": "808c9eeb-e171-446a-8ec9-3bea5d5d6716",
   "metadata": {},
   "outputs": [
    {
     "name": "stdout",
     "output_type": "stream",
     "text": [
      "Make: Toyota, Model: Fortuner\n"
     ]
    }
   ],
   "source": [
    "# 20. Create a Python class called `Car` with a default constructor that initializes the `make` and `model` attributes. Provide a method to display car information.\n",
    "\n",
    "# Class Car with Display Method:\n",
    "\n",
    "class Car:\n",
    "    def __init__(self, make, model):\n",
    "        self.make = make\n",
    "        self.model = model\n",
    "\n",
    "    def display_info(self):\n",
    "        print(f\"Make: {self.make}, Model: {self.model}\")\n",
    "\n",
    "# Usage\n",
    "car_obj = Car(\"Toyota\", \"Fortuner\")\n",
    "car_obj.display_info()\n"
   ]
  },
  {
   "cell_type": "code",
   "execution_count": 27,
   "id": "81c1fff7-b769-413a-8dd1-fecf2cd48838",
   "metadata": {},
   "outputs": [],
   "source": [
    "# INHERITANCE:-\n"
   ]
  },
  {
   "cell_type": "code",
   "execution_count": 28,
   "id": "03d63eb6-1d4a-4a79-ba20-82e5ebe65cee",
   "metadata": {},
   "outputs": [
    {
     "data": {
      "text/plain": [
       "' Inheritance in Python:\\nInheritance is a fundamental concept in object-oriented programming (OOP) that allows a class (called the child or subclass) to inherit the properties and behaviors of another class (called the parent or superclass). It promotes code reusability and establishes a relationship between classes. '"
      ]
     },
     "execution_count": 28,
     "metadata": {},
     "output_type": "execute_result"
    }
   ],
   "source": [
    "# 1. What is inheritance in Python? Explain its significance in object-oriented programming.\n",
    "\n",
    "''' Inheritance in Python:\n",
    "Inheritance is a fundamental concept in object-oriented programming (OOP) that allows a class (called the child or subclass) to inherit the properties and behaviors of another class (called the parent or superclass). It promotes code reusability and establishes a relationship between classes. '''\n"
   ]
  },
  {
   "cell_type": "code",
   "execution_count": 29,
   "id": "695cf9e5-5933-4501-9978-5c4791558e9b",
   "metadata": {},
   "outputs": [
    {
     "name": "stdout",
     "output_type": "stream",
     "text": [
      "Color: Red, Speed: 60, Brand: Toyota\n",
      "Engine started\n"
     ]
    }
   ],
   "source": [
    "# 2. Differentiate between single inheritance and multiple inheritance in Python. Provide examples for each.\n",
    "\n",
    "#  Single Inheritance vs. Multiple Inheritance:\n",
    "\n",
    "class Vehicle:\n",
    "    def __init__(self, color, speed):\n",
    "        self.color = color\n",
    "        self.speed = speed\n",
    "\n",
    "class Car(Vehicle):\n",
    "    def __init__(self, color, speed, brand):\n",
    "        super().__init__(color, speed)\n",
    "        self.brand = brand\n",
    "\n",
    "# Example\n",
    "car = Car(\"Red\", 60, \"Toyota\")\n",
    "print(f\"Color: {car.color}, Speed: {car.speed}, Brand: {car.brand}\")\n",
    "\n",
    "\n",
    "\n",
    "\n",
    "# Multiple Inheritance:\n",
    "\n",
    "\n",
    "class Engine:\n",
    "    def start(self):\n",
    "        print(\"Engine started\")\n",
    "\n",
    "class Car(Vehicle, Engine):\n",
    "    def __init__(self, color, speed, brand):\n",
    "        super().__init__(color, speed)\n",
    "        self.brand = brand\n",
    "\n",
    "# Example\n",
    "car = Car(\"Blue\", 70, \"Honda\")\n",
    "car.start()  # Accessing method from the Engine class\n"
   ]
  },
  {
   "cell_type": "code",
   "execution_count": 30,
   "id": "017519f1-62ac-43d6-85c6-bd613b40f3f5",
   "metadata": {},
   "outputs": [
    {
     "name": "stdout",
     "output_type": "stream",
     "text": [
      "Color: Green, Speed: 80, Brand: Ford\n"
     ]
    }
   ],
   "source": [
    "# 3. Create a Python class called `Vehicle` with attributes `color` and `speed`. Then, create a child class called `Car` that inherits from `Vehicle` and adds a `brand` attribute. Provide an example of creating a `Car` object.\n",
    "\n",
    "# Creating Classes and Inheritance:\n",
    "\n",
    "class Vehicle:\n",
    "    def __init__(self, color, speed):\n",
    "        self.color = color\n",
    "        self.speed = speed\n",
    "\n",
    "class Car(Vehicle):\n",
    "    def __init__(self, color, speed, brand):\n",
    "        super().__init__(color, speed)\n",
    "        self.brand = brand\n",
    "\n",
    "# Example\n",
    "car = Car(\"Green\", 80, \"Ford\")\n",
    "print(f\"Color: {car.color}, Speed: {car.speed}, Brand: {car.brand}\")\n"
   ]
  },
  {
   "cell_type": "code",
   "execution_count": 31,
   "id": "696c4f49-a1f6-494e-aa2e-65c5a9beb0a5",
   "metadata": {},
   "outputs": [
    {
     "name": "stdout",
     "output_type": "stream",
     "text": [
      "Dog barks\n"
     ]
    }
   ],
   "source": [
    "# 4. Explain the concept of method overriding in inheritance. Provide a practical example.\n",
    "\n",
    "''' Method Overriding:\n",
    "Method overriding occurs when a subclass provides a specific implementation for a method that is already defined in its superclass. '''\n",
    "\n",
    "class Animal:\n",
    "    def speak(self):\n",
    "        print(\"Animal speaks\")\n",
    "\n",
    "class Dog(Animal):\n",
    "    def speak(self):\n",
    "        print(\"Dog barks\")\n",
    "\n",
    "# Example\n",
    "dog = Dog()\n",
    "dog.speak()  # Outputs: Dog barks\n"
   ]
  },
  {
   "cell_type": "code",
   "execution_count": 32,
   "id": "2f2652d7-9271-4dc3-a863-d422eeaceaba",
   "metadata": {},
   "outputs": [
    {
     "name": "stdout",
     "output_type": "stream",
     "text": [
      "Color: Yellow, Speed: 90, Brand: Chevrolet\n"
     ]
    }
   ],
   "source": [
    "# 5. How can you access the methods and attributes of a parent class from a child class in Python? Give an example.\n",
    "\n",
    "# Accessing Parent Class Methods and Attributes:\n",
    "\n",
    "class Vehicle:\n",
    "    def __init__(self, color, speed):\n",
    "        self.color = color\n",
    "        self.speed = speed\n",
    "\n",
    "class Car(Vehicle):\n",
    "    def __init__(self, color, speed, brand):\n",
    "        super().__init__(color, speed)\n",
    "        self.brand = brand\n",
    "\n",
    "    def display_info(self):\n",
    "        print(f\"Color: {self.color}, Speed: {self.speed}, Brand: {self.brand}\")\n",
    "\n",
    "# Example\n",
    "car = Car(\"Yellow\", 90, \"Chevrolet\")\n",
    "car.display_info()\n"
   ]
  },
  {
   "cell_type": "code",
   "execution_count": 33,
   "id": "ee4fc89a-0eda-4955-871c-69ecb263bd0f",
   "metadata": {},
   "outputs": [
    {
     "name": "stdout",
     "output_type": "stream",
     "text": [
      "Vehicle started\n",
      "Car started\n"
     ]
    }
   ],
   "source": [
    "# 6. Discuss the use of the `super()` function in Python inheritance. When and why is it used? Provide an example.\n",
    "\n",
    "''' Using super():\n",
    "The super() function is used to call a method from the parent class.'''\n",
    "\n",
    "class Vehicle:\n",
    "    def start(self):\n",
    "        print(\"Vehicle started\")\n",
    "\n",
    "class Car(Vehicle):\n",
    "    def start(self):\n",
    "        super().start()\n",
    "        print(\"Car started\")\n",
    "\n",
    "# Example\n",
    "car = Car()\n",
    "car.start()  \n"
   ]
  },
  {
   "cell_type": "code",
   "execution_count": 34,
   "id": "94d863f5-504e-457b-bc05-1308d02e0de2",
   "metadata": {},
   "outputs": [
    {
     "name": "stdout",
     "output_type": "stream",
     "text": [
      "Dog barks\n",
      "Cat meows\n"
     ]
    }
   ],
   "source": [
    "# 7. Create a Python class called `Animal` with a method `speak()`. Then, create child classes `Dog` and `Cat` that inherit from `Animal` and override the `speak()` method. Provide an example of using these classes.\n",
    "\n",
    "# Method Overriding with Inheritance:\n",
    "\n",
    "class Animal:\n",
    "    def speak(self):\n",
    "        print(\"Animal speaks\")\n",
    "\n",
    "class Dog(Animal):\n",
    "    def speak(self):\n",
    "        print(\"Dog barks\")\n",
    "\n",
    "class Cat(Animal):\n",
    "    def speak(self):\n",
    "        print(\"Cat meows\")\n",
    "\n",
    "# Example\n",
    "dog = Dog()\n",
    "cat = Cat()\n",
    "\n",
    "dog.speak()  # Outputs: Dog barks\n",
    "cat.speak()  # Outputs: Cat meows\n"
   ]
  },
  {
   "cell_type": "code",
   "execution_count": 35,
   "id": "93c9435b-d462-4446-af1f-a187339ffdb1",
   "metadata": {},
   "outputs": [
    {
     "name": "stdout",
     "output_type": "stream",
     "text": [
      "True\n"
     ]
    }
   ],
   "source": [
    "# 8. Explain the role of the `isinstance()` function in Python and how it relates to inheritance.\n",
    "\n",
    "'''  Using isinstance():\n",
    "The isinstance() function is used to check if an object is an instance of a particular class.'''\n",
    "\n",
    "vehicle = Vehicle()\n",
    "print(isinstance(vehicle, Vehicle))  # Outputs: True\n"
   ]
  },
  {
   "cell_type": "code",
   "execution_count": 36,
   "id": "4996c21e-d130-4bbd-b3aa-d2532f7dea7b",
   "metadata": {},
   "outputs": [
    {
     "name": "stdout",
     "output_type": "stream",
     "text": [
      "True\n"
     ]
    }
   ],
   "source": [
    "# 9. What is the purpose of the `issubclass()` function in Python? Provide an example.\n",
    "\n",
    "# Using issubclass():\n",
    "# The issubclass() function checks if a class is a subclass of another class.\n",
    "\n",
    "print(issubclass(Car, Vehicle))  \n"
   ]
  },
  {
   "cell_type": "code",
   "execution_count": 37,
   "id": "d81f1b29-7a6e-4e51-86bd-00288ab3b7bd",
   "metadata": {},
   "outputs": [
    {
     "name": "stdout",
     "output_type": "stream",
     "text": [
      "Color: Black, Speed: 100, Brand: Tesla\n"
     ]
    }
   ],
   "source": [
    "# 10. Discuss the concept of constructor inheritance in Python. How are constructors inherited in child classes?\n",
    "\n",
    "''' Constructor Inheritance:\n",
    "Constructors are inherited automatically, and you can use super() to call the constructor of the parent class.'''\n",
    "\n",
    "class Vehicle:\n",
    "    def __init__(self, color, speed):\n",
    "        self.color = color\n",
    "        self.speed = speed\n",
    "\n",
    "class Car(Vehicle):\n",
    "    def __init__(self, color, speed, brand):\n",
    "        super().__init__(color, speed)\n",
    "        self.brand = brand\n",
    "\n",
    "# Example\n",
    "car = Car(\"Black\", 100, \"Tesla\")\n",
    "print(f\"Color: {car.color}, Speed: {car.speed}, Brand: {car.brand}\")\n"
   ]
  },
  {
   "cell_type": "code",
   "execution_count": 38,
   "id": "dfda0016-4e86-416a-a0c5-2a122d4fe9e2",
   "metadata": {},
   "outputs": [
    {
     "name": "stdout",
     "output_type": "stream",
     "text": [
      "Area of the circle: 78.5\n",
      "Area of the rectangle: 24\n"
     ]
    }
   ],
   "source": [
    "#  11. Create a Python class called `Shape` with a method `area()` that calculates the area of a shape. Then, create child classes `Circle` and `Rectangle` that inherit from `Shape` and implement the `area()` method accordingly. Provide an example.\n",
    "\n",
    "# Creating a class hierarchy for shapes:\n",
    "\n",
    "# 11. Create a Python class called `Shape` with a method `area()` that calculates the area of a shape.\n",
    "\n",
    "class Shape:\n",
    "    def area(self):\n",
    "        pass  # This method will be implemented by the child classes\n",
    "\n",
    "# Create child classes `Circle` and `Rectangle` that inherit from `Shape` and implement the `area()` method accordingly.\n",
    "\n",
    "class Circle(Shape):\n",
    "    def __init__(self, radius):\n",
    "        self.radius = radius\n",
    "\n",
    "    def area(self):\n",
    "        return 3.14 * self.radius * self.radius\n",
    "\n",
    "class Rectangle(Shape):\n",
    "    def __init__(self, length, width):\n",
    "        self.length = length\n",
    "        self.width = width\n",
    "\n",
    "    def area(self):\n",
    "        return self.length * self.width\n",
    "\n",
    "# Provide an example:\n",
    "circle_instance = Circle(5)\n",
    "print(\"Area of the circle:\", circle_instance.area())\n",
    "\n",
    "rectangle_instance = Rectangle(4, 6)\n",
    "print(\"Area of the rectangle:\", rectangle_instance.area())\n"
   ]
  },
  {
   "cell_type": "code",
   "execution_count": 39,
   "id": "ca093c0f-5ee3-41a4-9591-4c0b6ca72564",
   "metadata": {},
   "outputs": [],
   "source": [
    "# 12. Explain the use of abstract base classes (ABCs) in Python and how they relate to inheritance. Provide an example using the `abc` module.\n",
    "\n",
    "''' Use of abstract base classes (ABCs) in Python:\n",
    "Abstract Base Classes (ABCs) in Python are used to define a common interface for a group of related classes. They ensure that derived classes provide a specific set of methods. The abc module is used to work with ABCs. '''\n",
    "\n",
    "# 12. Explain the use of abstract base classes (ABCs) in Python and how they relate to inheritance.\n",
    "\n",
    "from abc import ABC, abstractmethod\n",
    "\n",
    "class Shape(ABC):\n",
    "    @abstractmethod\n",
    "    def area(self):\n",
    "        pass\n",
    "\n",
    "class Circle(Shape):\n",
    "    def __init__(self, radius):\n",
    "        self.radius = radius\n",
    "\n",
    "    def area(self):\n",
    "        return 3.14 * self.radius * self.radius\n",
    "\n",
    "class Rectangle(Shape):\n",
    "    def __init__(self, length, width):\n",
    "        self.length = length\n",
    "        self.width = width\n",
    "\n",
    "    def area(self):\n",
    "        return self.length * self.width\n"
   ]
  },
  {
   "cell_type": "code",
   "execution_count": 40,
   "id": "d7aa153c-2d36-42bb-b89f-44cbe49eff90",
   "metadata": {},
   "outputs": [],
   "source": [
    "# 13. How can you prevent a child class from modifying certain attributes or methods inherited from a parent class in Python?\n",
    "\n",
    "''' Preventing a child class from modifying certain attributes or methods:\n",
    "In Python, you can use name mangling to make attributes or methods private. Prefixing an attribute or method with two underscores will make it harder to access or modify in child classes. '''\n",
    "\n",
    "\n",
    "# 13. How can you prevent a child class from modifying certain attributes or methods inherited from a parent class in Python?\n",
    "\n",
    "class Parent:\n",
    "    def __init__(self):\n",
    "        self.__private_attribute = 42\n",
    "\n",
    "class Child(Parent):\n",
    "    def modify_attribute(self):\n",
    "        # This will result in an AttributeError\n",
    "        self.__private_attribute = 100\n",
    "\n",
    "# Example\n",
    "obj = Child()\n",
    "obj.modify_attribute()  # This will raise an AttributeError\n"
   ]
  },
  {
   "cell_type": "code",
   "execution_count": 41,
   "id": "4ecd1ec3-96d3-49a9-83a9-b5f09c0e4bbe",
   "metadata": {},
   "outputs": [
    {
     "name": "stdout",
     "output_type": "stream",
     "text": [
      "Manager's name: sourabh\n",
      "Manager's salary: 60000\n",
      "Manager's department: HR\n"
     ]
    }
   ],
   "source": [
    "# 14. Create a Python class called `Employee` with attributes `name` and `salary`. Then, create a child class `Manager` that inherits from `Employee` and adds an attribute `department`. Provide an example.\n",
    "\n",
    "\n",
    "class Employee:\n",
    "    def __init__(self, name, salary):\n",
    "        self.name = name\n",
    "        self.salary = salary\n",
    "\n",
    "class Manager(Employee):\n",
    "    def __init__(self, name, salary, department):\n",
    "        super().__init__(name, salary)\n",
    "        self.department = department\n",
    "\n",
    "# Example\n",
    "manager_instance = Manager(\"sourabh\", 60000, \"HR\")\n",
    "print(\"Manager's name:\", manager_instance.name)\n",
    "print(\"Manager's salary:\", manager_instance.salary)\n",
    "print(\"Manager's department:\", manager_instance.department)\n"
   ]
  },
  {
   "cell_type": "code",
   "execution_count": 42,
   "id": "bb8f6de6-3025-4c6d-afad-8ef34225512a",
   "metadata": {},
   "outputs": [
    {
     "name": "stdout",
     "output_type": "stream",
     "text": [
      "1\n",
      "3\n",
      "6\n"
     ]
    }
   ],
   "source": [
    "# 15. Discuss the concept of method overloading in Python inheritance. How does it differ from method overriding?\n",
    "\n",
    "''' Method Overloading refers to defining multiple methods with the same name in the same class but with a different number or type of parameters. Python does not support method overloading in the traditional sense, but you can achieve a similar effect using default parameter values or variable-length arguments.\n",
    "\n",
    "Method Overriding occurs when a child class provides a specific implementation for a method that is already defined in its parent class. The overridden method in the child class should have the same name and parameters as the method in the parent class.\n",
    "\n",
    " '''\n",
    "\n",
    "# Example of Method Overloading:\n",
    "\n",
    "# Method Overloading in Python (using default parameter values)\n",
    "\n",
    "class Example:\n",
    "    def add(self, a, b=0, c=0):\n",
    "        return a + b + c\n",
    "\n",
    "obj = Example()\n",
    "print(obj.add(1))        # Output: 1\n",
    "print(obj.add(1, 2))     # Output: 3\n",
    "print(obj.add(1, 2, 3))  # Output: 6\n"
   ]
  },
  {
   "cell_type": "code",
   "execution_count": 43,
   "id": "e2d2fa27-ed74-4285-9952-429902daec4a",
   "metadata": {},
   "outputs": [
    {
     "name": "stdout",
     "output_type": "stream",
     "text": [
      "Alice\n",
      "25\n"
     ]
    }
   ],
   "source": [
    "# 16. Explain the purpose of the `__init__()` method in Python inheritance and how it is utilized in child classes.\n",
    "\n",
    "''' Purpose of __init__ method in Python inheritance:\n",
    "The __init__ method in Python is a special method that is automatically called when an object is created from a class. It is commonly used to initialize the attributes of the object. In inheritance, the __init__ method of the parent class is often called explicitly using super().__init__() in the child class to ensure that the attributes of the parent class are also initialized.'''\n",
    "\n",
    "# Example:\n",
    "class Parent:\n",
    "    def __init__(self, name):\n",
    "        self.name = name\n",
    "\n",
    "class Child(Parent):\n",
    "    def __init__(self, name, age):\n",
    "        super().__init__(name)\n",
    "        self.age = age\n",
    "\n",
    "# Example usage\n",
    "child_instance = Child(\"Sourabh\", 25)\n",
    "print(child_instance.name)  \n",
    "print(child_instance.age)   \n"
   ]
  },
  {
   "cell_type": "code",
   "execution_count": 44,
   "id": "626f1933-6975-4488-9d6f-4505bb3c2479",
   "metadata": {},
   "outputs": [
    {
     "name": "stdout",
     "output_type": "stream",
     "text": [
      "Soaring high in the sky\n",
      "Flitting from branch to branch\n"
     ]
    }
   ],
   "source": [
    "# 17. Create a Python class called `Bird` with a method `fly()`. Then, create child classes `Eagle` and `Sparrow` that inherit from `Bird` and implement the `fly()` method differently. Provide an example of using these classes.\n",
    "\n",
    "# Creating a class hierarchy for birds:\n",
    "\n",
    "# 17. Create a Python class called `Bird` with a method `fly()`. Then, create child classes `Eagle` and `Sparrow` that inherit from `Bird` and implement the `fly()` method differently.\n",
    "\n",
    "class Bird:\n",
    "    def fly(self):\n",
    "        pass\n",
    "\n",
    "class Eagle(Bird):\n",
    "    def fly(self):\n",
    "        return \"Soaring high in the sky\"\n",
    "\n",
    "class Sparrow(Bird):\n",
    "    def fly(self):\n",
    "        return \"Flitting from branch to branch\"\n",
    "\n",
    "# Example\n",
    "eagle_instance = Eagle()\n",
    "print(eagle_instance.fly())  \n",
    "sparrow_instance = Sparrow()\n",
    "print(sparrow_instance.fly())  \n"
   ]
  },
  {
   "cell_type": "code",
   "execution_count": 45,
   "id": "591994ca-83a6-4fa0-aef2-87c28f130447",
   "metadata": {},
   "outputs": [
    {
     "data": {
      "text/plain": [
       "' The \"diamond problem\" in multiple inheritance:\\nThe \"diamond problem\" occurs in languages that support multiple inheritance when a class inherits from two classes that have a common ancestor. It can lead to ambiguity as to which version of a method should be inherited. In Python, this is addressed by the C3 linearization algorithm, which ensures a consistent and predictable method resolution order (MRO). '"
      ]
     },
     "execution_count": 45,
     "metadata": {},
     "output_type": "execute_result"
    }
   ],
   "source": [
    "# 18. What is the \"diamond problem\" in multiple inheritance, and how does Python address it?\n",
    "\n",
    "''' The \"diamond problem\" in multiple inheritance:\n",
    "The \"diamond problem\" occurs in languages that support multiple inheritance when a class inherits from two classes that have a common ancestor. It can lead to ambiguity as to which version of a method should be inherited. In Python, this is addressed by the C3 linearization algorithm, which ensures a consistent and predictable method resolution order (MRO). '''\n",
    "\n"
   ]
  },
  {
   "cell_type": "code",
   "execution_count": 47,
   "id": "2189687b-7855-4491-aa4d-6ec81c69deb1",
   "metadata": {},
   "outputs": [],
   "source": [
    "# 19. Discuss the concept of \"is-a\" and \"has-a\" relationships in inheritance, and provide examples of each.\n",
    "\n",
    "''' \"is-a\" and \"has-a\" relationships in inheritance:\n",
    "\"is-a\" relationship: This is a relationship where a class is a specialized version of another class. It is typically implemented using inheritance. '''\n",
    "\n",
    "# Example:\n",
    "\n",
    "# \"is-a\" relationship\n",
    "class Animal:\n",
    "    pass\n",
    "\n",
    "class Dog(Animal):\n",
    "    pass\n",
    "\n",
    "\n",
    "''' \"has-a\" relationship: This is a relationship where a class contains an instance of another class.'''\n",
    "\n",
    "# Example:\n",
    "\n",
    "# \"has-a\" relationship\n",
    "class Car:\n",
    "    pass\n",
    "\n",
    "class Person:\n",
    "    def __init__(self, car):\n",
    "        self.car = car\n"
   ]
  },
  {
   "cell_type": "code",
   "execution_count": 49,
   "id": "31668a86-571b-4829-af77-05f00b591d2f",
   "metadata": {},
   "outputs": [
    {
     "name": "stdout",
     "output_type": "stream",
     "text": [
      "Name: Sourabh, Age: 20\n",
      "Student ID: S12345\n",
      "Name: Mr. Sudhansu, Age: 45\n",
      "Employee ID: P98765\n"
     ]
    }
   ],
   "source": [
    "# 20. Create a Python class hierarchy for a university system. Start with a base class `Person` and create child classes `Student` and `Professor`, each with their own attributes and methods. Provide an example of using these classes in a university context. \n",
    "\n",
    "\n",
    "\n",
    "class Person:\n",
    "    def __init__(self, name, age):\n",
    "        self.name = name\n",
    "        self.age = age\n",
    "\n",
    "    def display_info(self):\n",
    "        print(f\"Name: {self.name}, Age: {self.age}\")\n",
    "\n",
    "class Student(Person):\n",
    "    def __init__(self, name, age, student_id):\n",
    "        super().__init__(name, age)\n",
    "        self.student_id = student_id\n",
    "\n",
    "    def display_info(self):\n",
    "        super().display_info()\n",
    "        print(f\"Student ID: {self.student_id}\")\n",
    "\n",
    "class Professor(Person):\n",
    "    def __init__(self, name, age, employee_id):\n",
    "        super().__init__(name, age)\n",
    "        self.employee_id = employee_id\n",
    "\n",
    "    def display_info(self):\n",
    "        super().display_info()\n",
    "        print(f\"Employee ID: {self.employee_id}\")\n",
    "\n",
    "# Example usage\n",
    "student_instance = Student(\"Sourabh\", 20, \"S12345\")\n",
    "student_instance.display_info()\n",
    "\n",
    "professor_instance = Professor(\"Mr. Sudhansu\", 45, \"P98765\")\n",
    "professor_instance.display_info()\n"
   ]
  },
  {
   "cell_type": "code",
   "execution_count": 50,
   "id": "f8866cfe-a143-4eaf-bd49-f06c810315c1",
   "metadata": {},
   "outputs": [],
   "source": [
    "# ENCAPSULATION:- "
   ]
  },
  {
   "cell_type": "code",
   "execution_count": 52,
   "id": "c65e63ff-3442-4dfd-9ee4-470abcf6b476",
   "metadata": {},
   "outputs": [
    {
     "data": {
      "text/plain": [
       "\" Encapsulation in Python:\\nEncapsulation is one of the fundamental principles of object-oriented programming (OOP). It refers to the bundling of data and methods that operate on the data into a single unit known as a class. The key idea is to restrict access to some of an object's components and only expose what is necessary. This helps in hiding the internal details of an object and protecting its integrity.\""
      ]
     },
     "execution_count": 52,
     "metadata": {},
     "output_type": "execute_result"
    }
   ],
   "source": [
    "# 1. Explain the concept of encapsulation in Python. What is its role in object-oriented programming?\n",
    "\n",
    "''' Encapsulation in Python:\n",
    "Encapsulation is one of the fundamental principles of object-oriented programming (OOP). It refers to the bundling of data and methods that operate on the data into a single unit known as a class. The key idea is to restrict access to some of an object's components and only expose what is necessary. This helps in hiding the internal details of an object and protecting its integrity.'''\n",
    "\n"
   ]
  },
  {
   "cell_type": "code",
   "execution_count": 53,
   "id": "61b68b78-c73e-4423-b750-a2dc9a34f013",
   "metadata": {},
   "outputs": [
    {
     "data": {
      "text/plain": [
       "\" Key Principles of Encapsulation:\\n\\nAccess Control: Restricting access to certain components of a class, usually achieved through access modifiers.\\nData Hiding: Concealing the internal details of how an object's data is implemented, exposing only what's necessary.\""
      ]
     },
     "execution_count": 53,
     "metadata": {},
     "output_type": "execute_result"
    }
   ],
   "source": [
    "# 2. Describe the key principles of encapsulation, including access control and data hiding.\n",
    "\n",
    "''' Key Principles of Encapsulation:\n",
    "\n",
    "Access Control: Restricting access to certain components of a class, usually achieved through access modifiers.\n",
    "Data Hiding: Concealing the internal details of how an object's data is implemented, exposing only what's necessary.'''\n"
   ]
  },
  {
   "cell_type": "code",
   "execution_count": 54,
   "id": "dce1dbb9-fa92-4b51-9076-162266cd9a77",
   "metadata": {},
   "outputs": [
    {
     "data": {
      "text/plain": [
       "' Achieving Encapsulation in Python:\\n\\nUse access modifiers (public, private, protected) to control access.\\nUse getter and setter methods to interact with private attributes.'"
      ]
     },
     "execution_count": 54,
     "metadata": {},
     "output_type": "execute_result"
    }
   ],
   "source": [
    "# 3. How can you achieve encapsulation in Python classes? Provide an example.\n",
    "\n",
    "''' Achieving Encapsulation in Python:\n",
    "\n",
    "Use access modifiers (public, private, protected) to control access.\n",
    "Use getter and setter methods to interact with private attributes.'''\n"
   ]
  },
  {
   "cell_type": "code",
   "execution_count": 55,
   "id": "ef76bfe5-5150-4ea7-b432-0c13c68118ac",
   "metadata": {},
   "outputs": [
    {
     "data": {
      "text/plain": [
       "' Public, Private, and Protected Access Modifiers in Python:\\n\\nPublic (+): Accessible from anywhere.\\nPrivate (-): Accessible only within the class.\\nProtected (#): Accessible within the class and its subclasses.'"
      ]
     },
     "execution_count": 55,
     "metadata": {},
     "output_type": "execute_result"
    }
   ],
   "source": [
    "# 4. Discuss the difference between public, private, and protected access modifiers in Python.\n",
    "\n",
    "''' Public, Private, and Protected Access Modifiers in Python:\n",
    "\n",
    "Public (+): Accessible from anywhere.\n",
    "Private (-): Accessible only within the class.\n",
    "Protected (#): Accessible within the class and its subclasses.'''"
   ]
  },
  {
   "cell_type": "code",
   "execution_count": 57,
   "id": "258188db-d915-4011-b927-9f3dafe7f37a",
   "metadata": {},
   "outputs": [],
   "source": [
    "# 5. Create a Python class called `Person` with a private attribute `__name`. Provide methods to get and set the name attribute\n",
    "\n",
    "# Example: Person Class:\n",
    "\n",
    "class Person:\n",
    "    def __init__(self, name):\n",
    "        self.__name = name  # Private attribute\n",
    "\n",
    "    def get_name(self):\n",
    "        return self.__name\n",
    "\n",
    "    def set_name(self, new_name):\n",
    "        self.__name = new_name\n"
   ]
  },
  {
   "cell_type": "code",
   "execution_count": 59,
   "id": "23d622db-19e3-404d-921f-e2890b735acb",
   "metadata": {},
   "outputs": [
    {
     "name": "stdout",
     "output_type": "stream",
     "text": [
      "sourabh\n",
      "virat\n"
     ]
    }
   ],
   "source": [
    "# 6. Explain the purpose of getter and setter methods in encapsulation. Provide examples.\n",
    "\n",
    "''' Getter and Setter Methods:\n",
    "\n",
    "Getter: Retrieves the value of a private attribute.\n",
    "Setter: Sets a new value for a private attribute.'''\n",
    "\n",
    "person = Person(\"sourabh\")\n",
    "print(person.get_name())  \n",
    "person.set_name(\"virat\")\n",
    "print(person.get_name())  "
   ]
  },
  {
   "cell_type": "code",
   "execution_count": 60,
   "id": "32c29fa5-0469-461a-93ea-72901c435f7d",
   "metadata": {},
   "outputs": [
    {
     "data": {
      "text/plain": [
       "' Name Mangling:\\n\\nIn Python, name mangling is a mechanism to make attributes of a class more difficult to access accidentally from outside the class. It is achieved by adding a prefix __ to the attribute name.\\nFor example, self.__name becomes self._ClassName__name during name mangling.'"
      ]
     },
     "execution_count": 60,
     "metadata": {},
     "output_type": "execute_result"
    }
   ],
   "source": [
    "# 7. What is name mangling in Python, and how does it affect encapsulation?\n",
    "\n",
    "''' Name Mangling:\n",
    "\n",
    "In Python, name mangling is a mechanism to make attributes of a class more difficult to access accidentally from outside the class. It is achieved by adding a prefix __ to the attribute name.\n",
    "For example, self.__name becomes self._ClassName__name during name mangling.'''\n",
    "\n"
   ]
  },
  {
   "cell_type": "code",
   "execution_count": 61,
   "id": "d4ca0339-4db0-4b10-8f1c-ebb99252774a",
   "metadata": {},
   "outputs": [],
   "source": [
    "# 8. Create a Python class called `BankAccount` with private attributes for the account balance (`__balance`) and account number (`__account_number`). Provide methods for depositing and withdrawing money.\n",
    "\n",
    "# Example: BankAccount Class:\n",
    "\n",
    "class BankAccount:\n",
    "    def __init__(self, account_number):\n",
    "        self.__account_number = account_number\n",
    "        self.__balance = 0\n",
    "\n",
    "    def deposit(self, amount):\n",
    "        self.__balance += amount\n",
    "\n",
    "    def withdraw(self, amount):\n",
    "        if amount <= self.__balance:\n",
    "            self.__balance -= amount\n",
    "        else:\n",
    "            print(\"Insufficient funds\")\n",
    "\n",
    "# Usage\n",
    "account = BankAccount(\"12345\")\n",
    "account.deposit(1000)\n",
    "account.withdraw(500)\n"
   ]
  },
  {
   "cell_type": "code",
   "execution_count": 62,
   "id": "cdd54d1f-cad7-4922-9e64-19aa45171271",
   "metadata": {},
   "outputs": [
    {
     "data": {
      "text/plain": [
       "' Advantages of Encapsulation:\\n\\nCode Maintainability: Changes can be made to the internal implementation without affecting external code.\\nSecurity: Protects the integrity of the object by hiding its internal state.'"
      ]
     },
     "execution_count": 62,
     "metadata": {},
     "output_type": "execute_result"
    }
   ],
   "source": [
    "# 9. Discuss the advantages of encapsulation in terms of code maintainability and security.\n",
    "\n",
    "''' Advantages of Encapsulation:\n",
    "\n",
    "Code Maintainability: Changes can be made to the internal implementation without affecting external code.\n",
    "Security: Protects the integrity of the object by hiding its internal state.'''\n"
   ]
  },
  {
   "cell_type": "code",
   "execution_count": 64,
   "id": "ab861e25-bac8-48d6-9990-9a62329ac64c",
   "metadata": {},
   "outputs": [
    {
     "name": "stdout",
     "output_type": "stream",
     "text": [
      "42\n"
     ]
    },
    {
     "data": {
      "text/plain": [
       "' In this example, __private_attr is accessed using the mangled name _MyClass__private_attr. This demonstrates how name mangling makes it more challenging to accidentally access private attributes from outside the class.'"
      ]
     },
     "execution_count": 64,
     "metadata": {},
     "output_type": "execute_result"
    }
   ],
   "source": [
    "# 10. How can you access private attributes in Python? Provide an example demonstrating the use of name mangling.\n",
    "\n",
    "# Accessing Private Attributes with Name Mangling:\n",
    "\n",
    "class MyClass:\n",
    "    def __init__(self):\n",
    "        self.__private_attr = 42\n",
    "\n",
    "obj = MyClass()\n",
    "# Accessing private attribute using name mangling\n",
    "print(obj._MyClass__private_attr)  \n",
    "\n",
    "\n",
    "\n",
    "''' In this example, __private_attr is accessed using the mangled name _MyClass__private_attr. This demonstrates how name mangling makes it more challenging to accidentally access private attributes from outside the class.'''"
   ]
  },
  {
   "cell_type": "code",
   "execution_count": 65,
   "id": "139e1308-c05b-45ee-8504-89fd803b5997",
   "metadata": {},
   "outputs": [],
   "source": [
    "# 11. Create a Python class hierarchy for a school system, including classes for students, teachers, and courses, and implement encapsulation principles to protect sensitive information.\n",
    "\n",
    "# School System Class Hierarchy:\n",
    "\n",
    "class Person:\n",
    "    def __init__(self, name, age):\n",
    "        self.__name = name\n",
    "        self.__age = age\n",
    "\n",
    "class Student(Person):\n",
    "    def __init__(self, name, age, student_id):\n",
    "        super().__init__(name, age)\n",
    "        self.__student_id = student_id\n",
    "\n",
    "class Teacher(Person):\n",
    "    def __init__(self, name, age, employee_id):\n",
    "        super().__init__(name, age)\n",
    "        self.__employee_id = employee_id\n",
    "\n",
    "class Course:\n",
    "    def __init__(self, course_name, course_code):\n",
    "        self.__course_name = course_name\n",
    "        self.__course_code = course_code\n"
   ]
  },
  {
   "cell_type": "code",
   "execution_count": 66,
   "id": "5683767c-dd9e-4b5c-ab8a-4f2ef94f2fb6",
   "metadata": {},
   "outputs": [
    {
     "data": {
      "text/plain": [
       "' \\nProperty Decorators and Encapsulation:\\n\\nProperty decorators (@property, @<attribute>.setter) provide a way to encapsulate attribute access by defining getter and setter methods.\\nThey allow you to control how attributes are accessed and modified.'"
      ]
     },
     "execution_count": 66,
     "metadata": {},
     "output_type": "execute_result"
    }
   ],
   "source": [
    "# 12. Explain the concept of property decorators in Python and how they relate to encapsulation.\n",
    "\n",
    "''' \n",
    "Property Decorators and Encapsulation:\n",
    "\n",
    "Property decorators (@property, @<attribute>.setter) provide a way to encapsulate attribute access by defining getter and setter methods.\n",
    "They allow you to control how attributes are accessed and modified.'''\n",
    "\n"
   ]
  },
  {
   "cell_type": "code",
   "execution_count": 67,
   "id": "608fd858-ec59-4ca0-8eea-376dda668cab",
   "metadata": {},
   "outputs": [],
   "source": [
    "# 13. What is data hiding, and why is it important in encapsulation? Provide examples.\n",
    "\n",
    "''' Data Hiding in Encapsulation:\n",
    "\n",
    "Data hiding involves making the internal details of an object private and exposing only what is necessary.'''\n",
    "\n",
    "# Example:\n",
    "\n",
    "class MyClass:\n",
    "    def __init__(self):\n",
    "        self.__data = 42\n"
   ]
  },
  {
   "cell_type": "code",
   "execution_count": 68,
   "id": "3f52a495-b83c-4cc3-9b8a-253515f68923",
   "metadata": {},
   "outputs": [],
   "source": [
    "# 14. Create a Python class called `Employee` with private attributes for salary (`__salary`) and employee ID (`__employee_id`). Provide a method to calculate yearly bonuses.\n",
    "\n",
    "# Employee Class with Yearly Bonuses:\n",
    "\n",
    "class Employee:\n",
    "    def __init__(self, salary, employee_id):\n",
    "        self.__salary = salary\n",
    "        self.__employee_id = employee_id\n",
    "\n",
    "    def calculate_bonus(self, percentage):\n",
    "        return self.__salary * (percentage / 100)\n"
   ]
  },
  {
   "cell_type": "code",
   "execution_count": 69,
   "id": "852aadb1-3366-4324-b39f-be312aefe6b1",
   "metadata": {},
   "outputs": [
    {
     "data": {
      "text/plain": [
       "' Accessors and Mutators:\\n\\nAccessors (Getters): Methods that provide access to the value of a private attribute.\\nMutators (Setters): Methods that modify the value of a private attribute.\\nThey help maintain control over attribute access, allowing validation or additional logic.'"
      ]
     },
     "execution_count": 69,
     "metadata": {},
     "output_type": "execute_result"
    }
   ],
   "source": [
    "# 15. Discuss the use of accessors and mutators in encapsulation. How do they help maintain control over attribute access?\n",
    "\n",
    "''' Accessors and Mutators:\n",
    "\n",
    "Accessors (Getters): Methods that provide access to the value of a private attribute.\n",
    "Mutators (Setters): Methods that modify the value of a private attribute.\n",
    "They help maintain control over attribute access, allowing validation or additional logic.'''\n"
   ]
  },
  {
   "cell_type": "code",
   "execution_count": 70,
   "id": "b1ab0272-89fd-4a73-ad32-0d35cc4af9f6",
   "metadata": {},
   "outputs": [
    {
     "data": {
      "text/plain": [
       "' Drawbacks of Encapsulation in Python:\\n\\nOverhead: The additional methods (getters and setters) may increase code verbosity.\\nComplexity: It might add complexity, especially in scenarios where simplicity is more important.'"
      ]
     },
     "execution_count": 70,
     "metadata": {},
     "output_type": "execute_result"
    }
   ],
   "source": [
    "# 16. What are the potential drawbacks or disadvantages of using encapsulation in Python?\n",
    "\n",
    "''' Drawbacks of Encapsulation in Python:\n",
    "\n",
    "Overhead: The additional methods (getters and setters) may increase code verbosity.\n",
    "Complexity: It might add complexity, especially in scenarios where simplicity is more important.'''\n",
    "\n"
   ]
  },
  {
   "cell_type": "code",
   "execution_count": 71,
   "id": "a9523cb1-a878-4460-bc40-77a97fe2c209",
   "metadata": {},
   "outputs": [],
   "source": [
    "# 17. Create a Python class for a library system that encapsulates book information, including titles, authors, and availability status.\n",
    "\n",
    "# Library System Class:\n",
    "\n",
    "class Book:\n",
    "    def __init__(self, title, author):\n",
    "        self.__title = title\n",
    "        self.__author = author\n",
    "        self.__available = True\n"
   ]
  },
  {
   "cell_type": "code",
   "execution_count": 72,
   "id": "f5977a2c-bc3d-4030-9740-1c0dad194364",
   "metadata": {},
   "outputs": [
    {
     "data": {
      "text/plain": [
       "' Encapsulation for Code Reusability and Modularity:\\n\\nEncapsulation allows changes to be made within a class without affecting external code.\\nIt promotes modularity by encapsulating related functionalities in a single unit (class).'"
      ]
     },
     "execution_count": 72,
     "metadata": {},
     "output_type": "execute_result"
    }
   ],
   "source": [
    "# 18. Explain how encapsulation enhances code reusability and modularity in Python programs.\n",
    "\n",
    "''' Encapsulation for Code Reusability and Modularity:\n",
    "\n",
    "Encapsulation allows changes to be made within a class without affecting external code.\n",
    "It promotes modularity by encapsulating related functionalities in a single unit (class).'''\n"
   ]
  },
  {
   "cell_type": "code",
   "execution_count": 73,
   "id": "0412d8ed-dd2c-4f43-8a0d-c2cad81abdde",
   "metadata": {},
   "outputs": [
    {
     "data": {
      "text/plain": [
       "' Information Hiding:\\n\\nInformation hiding is the principle of restricting access to the internal details of a class.\\nIt is essential for software development as it prevents unintended interference and promotes a clear separation of concerns.'"
      ]
     },
     "execution_count": 73,
     "metadata": {},
     "output_type": "execute_result"
    }
   ],
   "source": [
    "# 19. Describe the concept of information hiding in encapsulation. Why is it essential in software development?\n",
    "\n",
    "''' Information Hiding:\n",
    "\n",
    "Information hiding is the principle of restricting access to the internal details of a class.\n",
    "It is essential for software development as it prevents unintended interference and promotes a clear separation of concerns.'''\n"
   ]
  },
  {
   "cell_type": "code",
   "execution_count": 74,
   "id": "038399b0-eb6b-49e7-9080-0049c654b63d",
   "metadata": {},
   "outputs": [],
   "source": [
    "# 20. Create a Python class called `Customer` with private attributes for customer details like name, address, and contact information. Implement encapsulation to ensure data integrity and security.\n",
    "\n",
    "# Customer Class with Encapsulation:\n",
    "\n",
    "class Customer:\n",
    "    def __init__(self, name, address, contact_info):\n",
    "        self.__name = name\n",
    "        self.__address = address\n",
    "        self.__contact_info = contact_info\n"
   ]
  },
  {
   "cell_type": "code",
   "execution_count": 75,
   "id": "854bec95-ee84-444d-9138-9a82b0e7c6aa",
   "metadata": {},
   "outputs": [],
   "source": [
    "# Polymorphism:- "
   ]
  },
  {
   "cell_type": "code",
   "execution_count": 76,
   "id": "ec41b8a9-28eb-40ef-9e8f-749d8f256deb",
   "metadata": {},
   "outputs": [
    {
     "data": {
      "text/plain": [
       "' Polymorphism in Python and its relation to object-oriented programming:\\nPolymorphism in Python is the ability of different types of objects to be treated as if they are the same type. It allows methods to be written that can work with objects of various types and classes, leading to a more flexible and modular code. In object-oriented programming, polymorphism is closely related to the concept of inheritance and interfaces.'"
      ]
     },
     "execution_count": 76,
     "metadata": {},
     "output_type": "execute_result"
    }
   ],
   "source": [
    "# 1. What is polymorphism in Python? Explain how it is related to object-oriented programming.\n",
    "\n",
    "''' Polymorphism in Python and its relation to object-oriented programming:\n",
    "Polymorphism in Python is the ability of different types of objects to be treated as if they are the same type. It allows methods to be written that can work with objects of various types and classes, leading to a more flexible and modular code. In object-oriented programming, polymorphism is closely related to the concept of inheritance and interfaces.'''\n"
   ]
  },
  {
   "cell_type": "code",
   "execution_count": 77,
   "id": "82b2be5e-35c8-466a-9012-dba56c4ba097",
   "metadata": {},
   "outputs": [
    {
     "data": {
      "text/plain": [
       "' Compile-time polymorphism vs. runtime polymorphism in Python:\\nCompile-time polymorphism: Also known as method overloading, it occurs when multiple methods in the same class have the same name but different parameters. The appropriate method is chosen at compile time based on the number and types of arguments.\\n\\nRuntime polymorphism: Also known as method overriding, it occurs when a method in a child class has the same name and signature as a method in its parent class. The appropriate method is determined at runtime based on the actual type of the object.'"
      ]
     },
     "execution_count": 77,
     "metadata": {},
     "output_type": "execute_result"
    }
   ],
   "source": [
    "# 2. Describe the difference between compile-time polymorphism and runtime polymorphism in Python.\n",
    "\n",
    "''' Compile-time polymorphism vs. runtime polymorphism in Python:\n",
    "Compile-time polymorphism: Also known as method overloading, it occurs when multiple methods in the same class have the same name but different parameters. The appropriate method is chosen at compile time based on the number and types of arguments.\n",
    "\n",
    "Runtime polymorphism: Also known as method overriding, it occurs when a method in a child class has the same name and signature as a method in its parent class. The appropriate method is determined at runtime based on the actual type of the object.'''"
   ]
  },
  {
   "cell_type": "code",
   "execution_count": 78,
   "id": "cd284805-53f0-4d4a-bff2-4f8b5ba78349",
   "metadata": {},
   "outputs": [],
   "source": [
    "# 3. Create a Python class hierarchy for shapes (e.g., circle, square, triangle) and demonstrate polymorphism through a common method, such as `calculate_area()`.\n",
    "\n",
    "# Python class hierarchy for shapes:\n",
    "\n",
    "class Shape:\n",
    "    def calculate_area(self):\n",
    "        pass\n",
    "\n",
    "class Circle(Shape):\n",
    "    def __init__(self, radius):\n",
    "        self.radius = radius\n",
    "\n",
    "    def calculate_area(self):\n",
    "        return 3.14 * self.radius**2\n",
    "\n",
    "class Square(Shape):\n",
    "    def __init__(self, side_length):\n",
    "        self.side_length = side_length\n",
    "\n",
    "    def calculate_area(self):\n",
    "        return self.side_length**2\n",
    "\n",
    "class Triangle(Shape):\n",
    "    def __init__(self, base, height):\n",
    "        self.base = base\n",
    "        self.height = height\n",
    "\n",
    "    def calculate_area(self):\n",
    "        return 0.5 * self.base * self.height\n"
   ]
  },
  {
   "cell_type": "code",
   "execution_count": 79,
   "id": "f403fde3-ac00-403a-a6e8-1af067ac8abc",
   "metadata": {},
   "outputs": [
    {
     "name": "stdout",
     "output_type": "stream",
     "text": [
      "Child method\n"
     ]
    }
   ],
   "source": [
    "# 4. Explain the concept of method overriding in polymorphism. Provide an example.\n",
    "\n",
    "''' Method overriding in polymorphism:\n",
    "Method overriding occurs when a subclass provides a specific implementation for a method that is already defined in its superclass.'''\n",
    "\n",
    "class Parent:\n",
    "    def show(self):\n",
    "        print(\"Parent method\")\n",
    "\n",
    "class Child(Parent):\n",
    "    def show(self):\n",
    "        print(\"Child method\")\n",
    "\n",
    "# Example\n",
    "obj = Child()\n",
    "obj.show()  # Output: Child method\n"
   ]
  },
  {
   "cell_type": "code",
   "execution_count": 80,
   "id": "2f869428-a613-4c95-a7d9-0657d559873a",
   "metadata": {},
   "outputs": [],
   "source": [
    "# 5. How is polymorphism different from method overloading in Python? Provide examples for both.\n",
    "\n",
    "''' Polymorphism vs. method overloading in Python:\n",
    "Polymorphism: Refers to the ability of a single function or method to work in different ways for different types.\n",
    "\n",
    "Method Overloading: Involves defining multiple methods in the same class with the same name but different parameters.'''\n",
    "\n",
    "\n",
    "# Polymorphism\n",
    "def calculate_area(shape):\n",
    "    return shape.calculate_area()\n",
    "\n",
    "# Method Overloading (Python doesn't support method overloading explicitly, but can be achieved using default arguments)\n",
    "def add(a, b=0, c=0):\n",
    "    return a + b + c\n",
    "\n",
    "\n"
   ]
  },
  {
   "cell_type": "code",
   "execution_count": 81,
   "id": "79bae980-9974-473b-8e66-c31dfda11a02",
   "metadata": {},
   "outputs": [
    {
     "name": "stdout",
     "output_type": "stream",
     "text": [
      "Woof!\n",
      "Meow!\n",
      "Chirp!\n"
     ]
    }
   ],
   "source": [
    "# 6. Create a Python class called `Animal` with a method `speak()`. Then, create child classes like `Dog`, `Cat`, and `Bird`, each with their own `speak()` method. Demonstrate polymorphism by calling the `speak()` method on objects of different subclasses.\n",
    "\n",
    "# Polymorphism with Animal class hierarchy:\n",
    "\n",
    "class Animal:\n",
    "    def speak(self):\n",
    "        pass\n",
    "\n",
    "class Dog(Animal):\n",
    "    def speak(self):\n",
    "        return \"Woof!\"\n",
    "\n",
    "class Cat(Animal):\n",
    "    def speak(self):\n",
    "        return \"Meow!\"\n",
    "\n",
    "class Bird(Animal):\n",
    "    def speak(self):\n",
    "        return \"Chirp!\"\n",
    "\n",
    "# Example\n",
    "dog = Dog()\n",
    "cat = Cat()\n",
    "bird = Bird()\n",
    "\n",
    "print(dog.speak())  \n",
    "print(cat.speak())  \n",
    "print(bird.speak())  \n"
   ]
  },
  {
   "cell_type": "code",
   "execution_count": 82,
   "id": "3e3b76ec-2975-4230-b00e-359c413734fd",
   "metadata": {},
   "outputs": [],
   "source": [
    "# 7. Discuss the use of abstract methods and classes in achieving polymorphism in Python. Provide an example using the `abc` module.\n",
    "\n",
    "# Abstract methods and classes using the abc module:\n",
    "\n",
    "from abc import ABC, abstractmethod\n",
    "\n",
    "class Shape(ABC):\n",
    "    @abstractmethod\n",
    "    def calculate_area(self):\n",
    "        pass\n",
    "\n",
    "class Circle(Shape):\n",
    "    def __init__(self, radius):\n",
    "        self.radius = radius\n",
    "\n",
    "    def calculate_area(self):\n",
    "        return 3.14 * self.radius**2\n"
   ]
  },
  {
   "cell_type": "code",
   "execution_count": 83,
   "id": "a3d3dde5-d4e5-4b84-8039-7e64931fc798",
   "metadata": {},
   "outputs": [
    {
     "name": "stdout",
     "output_type": "stream",
     "text": [
      "Car engine started.\n",
      "Bicycle pedaling.\n",
      "Boat engine started.\n"
     ]
    }
   ],
   "source": [
    "# 8. Create a Python class hierarchy for a vehicle system (e.g., car, bicycle, boat) and implement a polymorphic `start()` method that prints a message specific to each vehicle type.\n",
    "\n",
    "# Polymorphic start() method for a vehicle system:\n",
    "\n",
    "class Vehicle:\n",
    "    def start(self):\n",
    "        pass\n",
    "\n",
    "class Car(Vehicle):\n",
    "    def start(self):\n",
    "        return \"Car engine started.\"\n",
    "\n",
    "class Bicycle(Vehicle):\n",
    "    def start(self):\n",
    "        return \"Bicycle pedaling.\"\n",
    "\n",
    "class Boat(Vehicle):\n",
    "    def start(self):\n",
    "        return \"Boat engine started.\"\n",
    "\n",
    "# Example\n",
    "car = Car()\n",
    "bicycle = Bicycle()\n",
    "boat = Boat()\n",
    "\n",
    "print(car.start())  \n",
    "print(bicycle.start())  \n",
    "print(boat.start())  \n"
   ]
  },
  {
   "cell_type": "code",
   "execution_count": 84,
   "id": "9fb9ba80-6df7-4120-aee5-4378f1c095d6",
   "metadata": {},
   "outputs": [
    {
     "name": "stdout",
     "output_type": "stream",
     "text": [
      "True\n",
      "True\n"
     ]
    }
   ],
   "source": [
    "# 9. Explain the significance of the `isinstance()` and `issubclass()` functions in Python polymorphism.\n",
    "\n",
    "# isinstance() and issubclass() functions:\n",
    "\n",
    "# isinstance() example\n",
    "obj = Circle(5)\n",
    "print(isinstance(obj, Shape)) \n",
    "\n",
    "# issubclass() example\n",
    "print(issubclass(Circle, Shape))  \n"
   ]
  },
  {
   "cell_type": "code",
   "execution_count": 86,
   "id": "cc2a7143-66fd-43c1-a1b9-94d782ac9bd6",
   "metadata": {},
   "outputs": [],
   "source": [
    "# 10. What is the role of the `@abstractmethod` decorator in achieving polymorphism in Python? Provide an example.\n",
    "\n",
    "''' @abstractmethod decorator:\n",
    "The @abstractmethod decorator is used to declare abstract methods in abstract classes. Abstract methods have no implementation in the abstract class and must be implemented by concrete (non-abstract) subclasses.'''\n",
    "\n",
    "from abc import ABC, abstractmethod\n",
    "\n",
    "class Shape(ABC):\n",
    "    @abstractmethod\n",
    "    def calculate_area(self):\n",
    "        pass\n",
    "\n",
    "class Circle(Shape):\n",
    "    def __init__(self, radius):\n",
    "        self.radius = radius\n",
    "\n",
    "    def calculate_area(self):\n",
    "        return 3.14 * self.radius**2\n",
    "\n",
    "    \n",
    "    ''' This example demonstrates an abstract class Shape with an abstract method calculate_area(), which is then implemented in the concrete class Circle.\n",
    "\n",
    "\n",
    "\n",
    "\n",
    "\n",
    "'''"
   ]
  },
  {
   "cell_type": "code",
   "execution_count": 87,
   "id": "102089b7-f4dc-4678-90eb-243b06f77fb0",
   "metadata": {},
   "outputs": [],
   "source": [
    "# 11. Create a Python class called `Shape` with a polymorphic method `area()` that calculates the area of different shapes (e.g., circle, rectangle, triangle).\n",
    "\n",
    "# Python class Shape with polymorphic area() method:\n",
    "\n",
    "class Shape:\n",
    "    def area(self):\n",
    "        pass\n",
    "\n",
    "class Circle(Shape):\n",
    "    def __init__(self, radius):\n",
    "        self.radius = radius\n",
    "\n",
    "    def area(self):\n",
    "        return 3.14 * self.radius**2\n",
    "\n",
    "class Rectangle(Shape):\n",
    "    def __init__(self, length, width):\n",
    "        self.length = length\n",
    "        self.width = width\n",
    "\n",
    "    def area(self):\n",
    "        return self.length * self.width\n",
    "\n",
    "class Triangle(Shape):\n",
    "    def __init__(self, base, height):\n",
    "        self.base = base\n",
    "        self.height = height\n",
    "\n",
    "    def area(self):\n",
    "        return 0.5 * self.base * self.height\n"
   ]
  },
  {
   "cell_type": "code",
   "execution_count": 88,
   "id": "b94e900c-506a-440d-a911-858107d1121c",
   "metadata": {},
   "outputs": [
    {
     "data": {
      "text/plain": [
       "'  Benefits of polymorphism in Python:\\nCode Reusability: Polymorphism allows a single interface to be used for various types, reducing redundancy and making code more modular.\\n\\nFlexibility: Adding new classes that conform to the existing interface is easier, enhancing the flexibility of the code.\\n\\n'"
      ]
     },
     "execution_count": 88,
     "metadata": {},
     "output_type": "execute_result"
    }
   ],
   "source": [
    "# 12. Discuss the benefits of polymorphism in terms of code reusability and flexibility in Python programs.\n",
    "\n",
    "'''  Benefits of polymorphism in Python:\n",
    "Code Reusability: Polymorphism allows a single interface to be used for various types, reducing redundancy and making code more modular.\n",
    "\n",
    "Flexibility: Adding new classes that conform to the existing interface is easier, enhancing the flexibility of the code.\n",
    "\n",
    "'''"
   ]
  },
  {
   "cell_type": "code",
   "execution_count": 89,
   "id": "1dbf982e-67ec-409c-be9e-0d0b42f31777",
   "metadata": {},
   "outputs": [
    {
     "name": "stdout",
     "output_type": "stream",
     "text": [
      "Parent method\n",
      "Child method\n"
     ]
    }
   ],
   "source": [
    "# 13. Explain the use of the `super()` function in Python polymorphism. How does it help call methods of parent classes?\n",
    "\n",
    "'''  Use of super() function in Python polymorphism:\n",
    "The super() function is used to call a method from a parent class. In the context of polymorphism, it helps in calling overridden methods in the superclass.'''\n",
    "\n",
    "class Parent:\n",
    "    def show(self):\n",
    "        print(\"Parent method\")\n",
    "\n",
    "class Child(Parent):\n",
    "    def show(self):\n",
    "        super().show()\n",
    "        print(\"Child method\")\n",
    "\n",
    "# Example\n",
    "obj = Child()\n",
    "obj.show()\n"
   ]
  },
  {
   "cell_type": "code",
   "execution_count": 90,
   "id": "675b27a8-34c9-4de8-8299-944cf9b21cb9",
   "metadata": {},
   "outputs": [],
   "source": [
    "# 14. Create a Python class hierarchy for a banking system with various account types (e.g., savings, checking, credit card) and demonstrate polymorphism by implementing a common `withdraw()` method.\n",
    "\n",
    "# Python class hierarchy for a banking system:\n",
    "\n",
    "class Account:\n",
    "    def withdraw(self, amount):\n",
    "        pass\n",
    "\n",
    "class SavingsAccount(Account):\n",
    "    def withdraw(self, amount):\n",
    "        return f\"Withdrawing {amount} from Savings Account.\"\n",
    "\n",
    "class CheckingAccount(Account):\n",
    "    def withdraw(self, amount):\n",
    "        return f\"Withdrawing {amount} from Checking Account.\"\n",
    "\n",
    "class CreditCardAccount(Account):\n",
    "    def withdraw(self, amount):\n",
    "        return f\"Withdrawing {amount} from Credit Card Account.\"\n"
   ]
  },
  {
   "cell_type": "code",
   "execution_count": 91,
   "id": "7e09b25d-84cd-464e-a70e-e55d603fbb6e",
   "metadata": {},
   "outputs": [
    {
     "name": "stdout",
     "output_type": "stream",
     "text": [
      "4 6\n"
     ]
    }
   ],
   "source": [
    "# 15. Describe the concept of operator overloading in Python and how it relates to polymorphism. Provide examples using operators like `+` and `*`.\n",
    "\n",
    "'''  Operator overloading and its relation to polymorphism:\n",
    "Operator overloading allows the same operator to behave differently for different data types or classes. It is a form of polymorphism.'''\n",
    "\n",
    "\n",
    "class ComplexNumber:\n",
    "    def __init__(self, real, imag):\n",
    "        self.real = real\n",
    "        self.imag = imag\n",
    "\n",
    "    def __add__(self, other):\n",
    "        return ComplexNumber(self.real + other.real, self.imag + other.imag)\n",
    "\n",
    "# Example\n",
    "c1 = ComplexNumber(1, 2)\n",
    "c2 = ComplexNumber(3, 4)\n",
    "result = c1 + c2\n",
    "print(result.real, result.imag)  "
   ]
  },
  {
   "cell_type": "code",
   "execution_count": 92,
   "id": "d71b0e67-a550-43c6-809d-9406f11030b8",
   "metadata": {},
   "outputs": [
    {
     "data": {
      "text/plain": [
       "' Dynamic polymorphism in Python:\\nDynamic polymorphism allows objects to be treated as instances of their parent class during runtime. In Python, this is achieved through method overriding and the ability to use the same method name across different classes.'"
      ]
     },
     "execution_count": 92,
     "metadata": {},
     "output_type": "execute_result"
    }
   ],
   "source": [
    "# 16. What is dynamic polymorphism, and how is it achieved in Python?\n",
    "\n",
    "''' Dynamic polymorphism in Python:\n",
    "Dynamic polymorphism allows objects to be treated as instances of their parent class during runtime. In Python, this is achieved through method overriding and the ability to use the same method name across different classes.'''\n",
    "\n"
   ]
  },
  {
   "cell_type": "code",
   "execution_count": 93,
   "id": "c84f311a-60c7-4092-808c-64910359d2d3",
   "metadata": {},
   "outputs": [],
   "source": [
    "# 17. Create a Python class hierarchy for employees in a company (e.g., manager, developer, designer) and implement polymorphism through a common `calculate_salary()` method.\n",
    "\n",
    "#  Python class hierarchy for employees:\n",
    "\n",
    "\n",
    "class Employee:\n",
    "    def calculate_salary(self):\n",
    "        pass\n",
    "\n",
    "class Manager(Employee):\n",
    "    def calculate_salary(self):\n",
    "        return \"Manager's salary calculation.\"\n",
    "\n",
    "class Developer(Employee):\n",
    "    def calculate_salary(self):\n",
    "        return \"Developer's salary calculation.\"\n",
    "\n",
    "class Designer(Employee):\n",
    "    def calculate_salary(self):\n",
    "        return \"Designer's salary calculation.\"\n"
   ]
  },
  {
   "cell_type": "code",
   "execution_count": 94,
   "id": "ec86481c-93fe-41ec-b1f2-0fc204976399",
   "metadata": {},
   "outputs": [
    {
     "data": {
      "text/plain": [
       "' Function pointers and polymorphism in Python:\\nIn Python, functions are first-class citizens, and function pointers are not explicitly used. However, passing functions as arguments allows achieving a form of polymorphism'"
      ]
     },
     "execution_count": 94,
     "metadata": {},
     "output_type": "execute_result"
    }
   ],
   "source": [
    "# 18. Discuss the concept of function pointers and how they can be used to achieve polymorphism in Python.\n",
    "\n",
    "''' Function pointers and polymorphism in Python:\n",
    "In Python, functions are first-class citizens, and function pointers are not explicitly used. However, passing functions as arguments allows achieving a form of polymorphism'''\n",
    "\n"
   ]
  },
  {
   "cell_type": "code",
   "execution_count": 95,
   "id": "6745a3dd-ade0-437b-bf93-197ab3c4526f",
   "metadata": {},
   "outputs": [
    {
     "data": {
      "text/plain": [
       "\" Interfaces and abstract classes in polymorphism:\\nAbstract Classes: Can have both abstract and concrete methods. Can't be instantiated directly.\\n\\nInterfaces: Only contain abstract methods. Provide a blueprint for classes to implement.\\n\\nComparison:\\n\\nAbstract classes allow for some code implementation, while interfaces ensure all methods are abstract.\""
      ]
     },
     "execution_count": 95,
     "metadata": {},
     "output_type": "execute_result"
    }
   ],
   "source": [
    "# 19. Explain the role of interfaces and abstract classes in polymorphism, drawing comparisons between them.\n",
    "\n",
    "''' Interfaces and abstract classes in polymorphism:\n",
    "Abstract Classes: Can have both abstract and concrete methods. Can't be instantiated directly.\n",
    "\n",
    "Interfaces: Only contain abstract methods. Provide a blueprint for classes to implement.\n",
    "\n",
    "Comparison:\n",
    "\n",
    "Abstract classes allow for some code implementation, while interfaces ensure all methods are abstract.'''\n"
   ]
  },
  {
   "cell_type": "code",
   "execution_count": 96,
   "id": "7017230b-0f40-4b30-941a-cf50911df3b6",
   "metadata": {},
   "outputs": [],
   "source": [
    "# 20. Create a Python class for a zoo simulation, demonstrating polymorphism with different animal types (e.g., mammals, birds, reptiles) and their behavior (e.g., eating, sleeping, making sounds).\n",
    "\n",
    "# Python class for a zoo simulation:\n",
    "\n",
    "class Animal:\n",
    "    def make_sound(self):\n",
    "        pass\n",
    "\n",
    "class Mammal(Animal):\n",
    "    def make_sound(self):\n",
    "        return \"Mammal sound\"\n",
    "\n",
    "class Bird(Animal):\n",
    "    def make_sound(self):\n",
    "        return \"Bird sound\"\n",
    "\n",
    "class Reptile(Animal):\n",
    "    def make_sound(self):\n",
    "        return \"Reptile sound\"\n"
   ]
  },
  {
   "cell_type": "code",
   "execution_count": 97,
   "id": "6b94d227-6ca4-407d-b3e4-802b40df992a",
   "metadata": {},
   "outputs": [],
   "source": [
    "# Abstraction:-"
   ]
  },
  {
   "cell_type": "code",
   "execution_count": 98,
   "id": "ba8c48d0-5d01-41b6-8505-7a8d87052452",
   "metadata": {},
   "outputs": [
    {
     "data": {
      "text/plain": [
       "' Abstraction in Python and its relation to Object-Oriented Programming (OOP):\\nAbstraction is a fundamental concept in OOP that involves simplifying complex systems by modeling classes based on the essential properties and behaviors relevant to the problem. In Python, abstraction is achieved through classes and objects.\\n\\nIn OOP, abstraction allows you to focus on the essential characteristics of an object while ignoring the irrelevant details. This is done by defining classes with attributes and methods that represent the essential features of an object.\\n\\n'"
      ]
     },
     "execution_count": 98,
     "metadata": {},
     "output_type": "execute_result"
    }
   ],
   "source": [
    "# 1. What is abstraction in Python, and how does it relate to object-oriented programming?\n",
    "\n",
    "''' Abstraction in Python and its relation to Object-Oriented Programming (OOP):\n",
    "Abstraction is a fundamental concept in OOP that involves simplifying complex systems by modeling classes based on the essential properties and behaviors relevant to the problem. In Python, abstraction is achieved through classes and objects.\n",
    "\n",
    "In OOP, abstraction allows you to focus on the essential characteristics of an object while ignoring the irrelevant details. This is done by defining classes with attributes and methods that represent the essential features of an object.\n",
    "\n",
    "'''"
   ]
  },
  {
   "cell_type": "code",
   "execution_count": 99,
   "id": "7b2b8aef-3776-45b3-aea5-473b7ab31ede",
   "metadata": {},
   "outputs": [
    {
     "data": {
      "text/plain": [
       "\" Benefits of Abstraction:\\nAbstraction provides several benefits, including:\\n\\nCode Organization: Abstraction helps in organizing code by breaking it into manageable components (classes) that represent real-world entities.\\n\\nComplexity Reduction: By hiding the implementation details and exposing only what's necessary, abstraction reduces complexity and makes the code more readable and maintainable.\""
      ]
     },
     "execution_count": 99,
     "metadata": {},
     "output_type": "execute_result"
    }
   ],
   "source": [
    "# 2. Describe the benefits of abstraction in terms of code organization and complexity reduction.\n",
    "\n",
    "''' Benefits of Abstraction:\n",
    "Abstraction provides several benefits, including:\n",
    "\n",
    "Code Organization: Abstraction helps in organizing code by breaking it into manageable components (classes) that represent real-world entities.\n",
    "\n",
    "Complexity Reduction: By hiding the implementation details and exposing only what's necessary, abstraction reduces complexity and makes the code more readable and maintainable.'''\n",
    "\n"
   ]
  },
  {
   "cell_type": "code",
   "execution_count": 100,
   "id": "22e4ce4b-3317-4bd7-b8ee-ee1db9f6f2e3",
   "metadata": {},
   "outputs": [
    {
     "name": "stdout",
     "output_type": "stream",
     "text": [
      "Area of the circle: 78.5\n",
      "Area of the rectangle: 24\n"
     ]
    }
   ],
   "source": [
    "# 3. Create a Python class called `Shape` with an abstract method `calculate_area()`. Then, create child classes (e.g., `Circle`, `Rectangle`) that implement the `calculate_area()` method. Provide an example of using these classes.\n",
    "\n",
    "#  Python class Shape with abstract method:\n",
    "\n",
    "from abc import ABC, abstractmethod\n",
    "\n",
    "class Shape(ABC):\n",
    "    @abstractmethod\n",
    "    def calculate_area(self):\n",
    "        pass\n",
    "\n",
    "class Circle(Shape):\n",
    "    def __init__(self, radius):\n",
    "        self.radius = radius\n",
    "    \n",
    "    def calculate_area(self):\n",
    "        return 3.14 * self.radius * self.radius\n",
    "\n",
    "class Rectangle(Shape):\n",
    "    def __init__(self, length, width):\n",
    "        self.length = length\n",
    "        self.width = width\n",
    "    \n",
    "    def calculate_area(self):\n",
    "        return self.length * self.width\n",
    "\n",
    "# Example Usage:\n",
    "circle = Circle(5)\n",
    "print(f\"Area of the circle: {circle.calculate_area()}\")\n",
    "\n",
    "rectangle = Rectangle(4, 6)\n",
    "print(f\"Area of the rectangle: {rectangle.calculate_area()}\")\n",
    "\n",
    "\n",
    "''' In this example, the Shape class is an abstract base class with an abstract method calculate_area(). The Circle and Rectangle classes are concrete classes that inherit from Shape and provide their implementations of calculate_area().'''\n"
   ]
  },
  {
   "cell_type": "code",
   "execution_count": 101,
   "id": "87a79f9d-30b2-4e34-b0e6-21931d8d29a1",
   "metadata": {},
   "outputs": [
    {
     "name": "stdout",
     "output_type": "stream",
     "text": [
      "Doing something concrete.\n"
     ]
    },
    {
     "data": {
      "text/plain": [
       "' In this example, AbstractClassExample is an abstract class with an abstract method do_something(). The ConcreteClass inherits from AbstractClassExample and provides a concrete implementation of do_something().'"
      ]
     },
     "execution_count": 101,
     "metadata": {},
     "output_type": "execute_result"
    }
   ],
   "source": [
    "# 4. Explain the concept of abstract classes in Python and how they are defined using the `abc` module. Provide an example.\n",
    "\n",
    "\n",
    "'''  Abstract classes in Python using the abc module:\n",
    "Abstract classes in Python are classes that cannot be instantiated and may contain abstract methods. The abc module is used to define abstract base classes.'''\n",
    "\n",
    "from abc import ABC, abstractmethod\n",
    "\n",
    "class AbstractClassExample(ABC):\n",
    "    @abstractmethod\n",
    "    def do_something(self):\n",
    "        pass\n",
    "\n",
    "class ConcreteClass(AbstractClassExample):\n",
    "    def do_something(self):\n",
    "        super().do_something()\n",
    "        print(\"Doing something concrete.\")\n",
    "\n",
    "# Example Usage:\n",
    "obj = ConcreteClass()\n",
    "obj.do_something()\n",
    "\n",
    "\n",
    "''' In this example, AbstractClassExample is an abstract class with an abstract method do_something(). The ConcreteClass inherits from AbstractClassExample and provides a concrete implementation of do_something().'''\n"
   ]
  },
  {
   "cell_type": "code",
   "execution_count": 102,
   "id": "fe3f49e0-b601-4091-a33d-b3128b5fe49e",
   "metadata": {},
   "outputs": [
    {
     "data": {
      "text/plain": [
       "'  Differences between abstract and regular classes:\\nAbstract classes:\\n\\nCannot be instantiated.\\nMay contain abstract methods (methods without implementation).\\nUsed as a blueprint for other classes.\\nRegular classes:\\n\\nCan be instantiated.\\nMust implement all methods defined in the class.\\nUse cases for abstract classes include situations where you want to provide a common interface for a group of related classes. '"
      ]
     },
     "execution_count": 102,
     "metadata": {},
     "output_type": "execute_result"
    }
   ],
   "source": [
    "# 5. How do abstract classes differ from regular classes in Python? Discuss their use cases.\n",
    "\n",
    "'''  Differences between abstract and regular classes:\n",
    "Abstract classes:\n",
    "\n",
    "Cannot be instantiated.\n",
    "May contain abstract methods (methods without implementation).\n",
    "Used as a blueprint for other classes.\n",
    "Regular classes:\n",
    "\n",
    "Can be instantiated.\n",
    "Must implement all methods defined in the class.\n",
    "Use cases for abstract classes include situations where you want to provide a common interface for a group of related classes. '''\n",
    "\n"
   ]
  },
  {
   "cell_type": "code",
   "execution_count": 103,
   "id": "3bd4f865-ae44-4c14-897e-223cbb1b9956",
   "metadata": {},
   "outputs": [
    {
     "name": "stdout",
     "output_type": "stream",
     "text": [
      "Current balance: 1300\n"
     ]
    }
   ],
   "source": [
    "# 6. Create a Python class for a bank account and demonstrate abstraction by hiding the account balance and providing methods to deposit and withdraw funds.\n",
    "\n",
    "# Bank account class demonstrating abstraction:\n",
    "\n",
    "class BankAccount:\n",
    "    def __init__(self, initial_balance=0):\n",
    "        self._balance = initial_balance  # Encapsulation: hide balance\n",
    "\n",
    "    def deposit(self, amount):\n",
    "        self._balance += amount\n",
    "\n",
    "    def withdraw(self, amount):\n",
    "        if amount <= self._balance:\n",
    "            self._balance -= amount\n",
    "        else:\n",
    "            print(\"Insufficient funds.\")\n",
    "\n",
    "    def get_balance(self):\n",
    "        return self._balance\n",
    "\n",
    "# Example Usage:\n",
    "account = BankAccount(1000)\n",
    "account.deposit(500)\n",
    "account.withdraw(200)\n",
    "print(f\"Current balance: {account.get_balance()}\")\n"
   ]
  },
  {
   "cell_type": "code",
   "execution_count": 104,
   "id": "129e4aef-e0b8-4a51-9e1a-7c8eb670efc7",
   "metadata": {},
   "outputs": [
    {
     "data": {
      "text/plain": [
       "' Interface classes in Python:\\nIn Python, there is no explicit concept of an interface class. However, the idea of interfaces is achieved through abstract classes with abstract methods. Interface classes define a contract that concrete classes must adhere to.'"
      ]
     },
     "execution_count": 104,
     "metadata": {},
     "output_type": "execute_result"
    }
   ],
   "source": [
    "# 7. Discuss the concept of interface classes in Python and their role in achieving abstraction.\n",
    "\n",
    "''' Interface classes in Python:\n",
    "In Python, there is no explicit concept of an interface class. However, the idea of interfaces is achieved through abstract classes with abstract methods. Interface classes define a contract that concrete classes must adhere to.'''\n"
   ]
  },
  {
   "cell_type": "code",
   "execution_count": 105,
   "id": "7efcea34-7d9b-4a57-a444-d0eb66c1db8e",
   "metadata": {},
   "outputs": [
    {
     "name": "stdout",
     "output_type": "stream",
     "text": [
      "Dog is eating.\n",
      "Dog is sleeping.\n",
      "Cat is eating.\n",
      "Cat is sleeping.\n"
     ]
    }
   ],
   "source": [
    "# 8. Create a Python class hierarchy for animals and implement abstraction by defining common methods (e.g., `eat()`, `sleep()`) in an abstract base class.\n",
    "\n",
    "# Animal class hierarchy with abstraction:\n",
    "\n",
    "from abc import ABC, abstractmethod\n",
    "\n",
    "class Animal(ABC):\n",
    "    @abstractmethod\n",
    "    def eat(self):\n",
    "        pass\n",
    "\n",
    "    @abstractmethod\n",
    "    def sleep(self):\n",
    "        pass\n",
    "\n",
    "class Dog(Animal):\n",
    "    def eat(self):\n",
    "        print(\"Dog is eating.\")\n",
    "\n",
    "    def sleep(self):\n",
    "        print(\"Dog is sleeping.\")\n",
    "\n",
    "class Cat(Animal):\n",
    "    def eat(self):\n",
    "        print(\"Cat is eating.\")\n",
    "\n",
    "    def sleep(self):\n",
    "        print(\"Cat is sleeping.\")\n",
    "\n",
    "# Example Usage:\n",
    "dog = Dog()\n",
    "dog.eat()\n",
    "dog.sleep()\n",
    "\n",
    "cat = Cat()\n",
    "cat.eat()\n",
    "cat.sleep()\n"
   ]
  },
  {
   "cell_type": "code",
   "execution_count": 106,
   "id": "eb59ae42-e84e-4f78-a582-92b37a1e0b25",
   "metadata": {},
   "outputs": [
    {
     "data": {
      "text/plain": [
       "' Significance of encapsulation in achieving abstraction:\\nEncapsulation is the bundling of data and methods that operate on that data into a single unit (class). It helps in achieving abstraction by hiding the internal details and exposing only what is necessary. In the bank account example, the account balance is encapsulated, and access is controlled through methods.'"
      ]
     },
     "execution_count": 106,
     "metadata": {},
     "output_type": "execute_result"
    }
   ],
   "source": [
    "# 9. Explain the significance of encapsulation in achieving abstraction. Provide examples.\n",
    "\n",
    "''' Significance of encapsulation in achieving abstraction:\n",
    "Encapsulation is the bundling of data and methods that operate on that data into a single unit (class). It helps in achieving abstraction by hiding the internal details and exposing only what is necessary. In the bank account example, the account balance is encapsulated, and access is controlled through methods.'''\n"
   ]
  },
  {
   "cell_type": "code",
   "execution_count": 107,
   "id": "a9011cce-62a1-4ab5-8d0b-01d16cf5135d",
   "metadata": {},
   "outputs": [
    {
     "data": {
      "text/plain": [
       "' Abstract methods and their role in enforcing abstraction:\\nAbstract methods are methods declared in an abstract class but do not have an implementation. They are meant to be overridden by concrete subclasses. Abstract methods enforce abstraction by providing a common interface that concrete classes must adhere to. If a concrete class does not provide an implementation for an abstract method, it will also become abstract, and the program will raise an error if you try to instantiate it.'"
      ]
     },
     "execution_count": 107,
     "metadata": {},
     "output_type": "execute_result"
    }
   ],
   "source": [
    "# 10. What is the purpose of abstract methods, and how do they enforce abstraction in Python classes? \n",
    "\n",
    "''' Abstract methods and their role in enforcing abstraction:\n",
    "Abstract methods are methods declared in an abstract class but do not have an implementation. They are meant to be overridden by concrete subclasses. Abstract methods enforce abstraction by providing a common interface that concrete classes must adhere to. If a concrete class does not provide an implementation for an abstract method, it will also become abstract, and the program will raise an error if you try to instantiate it.'''"
   ]
  },
  {
   "cell_type": "code",
   "execution_count": 108,
   "id": "571ca58f-d367-4281-afbc-c09b507aac10",
   "metadata": {},
   "outputs": [
    {
     "name": "stdout",
     "output_type": "stream",
     "text": [
      "Car engine started.\n",
      "Car engine stopped.\n",
      "Motorcycle engine started.\n",
      "Motorcycle engine stopped.\n"
     ]
    }
   ],
   "source": [
    "# 11. Create a Python class for a vehicle system and demonstrate abstraction by defining common methods (e.g., `start()`, `stop()`) in an abstract base class.\n",
    "\n",
    "# Python class for a Vehicle System demonstrating abstraction:\n",
    "\n",
    "from abc import ABC, abstractmethod\n",
    "\n",
    "class Vehicle(ABC):\n",
    "    @abstractmethod\n",
    "    def start(self):\n",
    "        pass\n",
    "\n",
    "    @abstractmethod\n",
    "    def stop(self):\n",
    "        pass\n",
    "\n",
    "class Car(Vehicle):\n",
    "    def start(self):\n",
    "        print(\"Car engine started.\")\n",
    "\n",
    "    def stop(self):\n",
    "        print(\"Car engine stopped.\")\n",
    "\n",
    "class Motorcycle(Vehicle):\n",
    "    def start(self):\n",
    "        print(\"Motorcycle engine started.\")\n",
    "\n",
    "    def stop(self):\n",
    "        print(\"Motorcycle engine stopped.\")\n",
    "\n",
    "# Example Usage:\n",
    "car = Car()\n",
    "car.start()\n",
    "car.stop()\n",
    "\n",
    "motorcycle = Motorcycle()\n",
    "motorcycle.start()\n",
    "motorcycle.stop()\n",
    "\n",
    "''' Here, Vehicle is an abstract base class with abstract methods start and stop. Car and Motorcycle are concrete classes that inherit from Vehicle and provide their implementations.\n",
    "\n",
    "'''"
   ]
  },
  {
   "cell_type": "code",
   "execution_count": 109,
   "id": "5623c9e5-ee33-49b6-b0e1-066dd2fa630d",
   "metadata": {},
   "outputs": [
    {
     "data": {
      "text/plain": [
       "' Use of abstract properties in Python:\\nAbstract properties are properties declared in an abstract class without an implementation. They are used to enforce the presence of certain attributes in concrete classes. Abstract properties can be employed in abstract classes similarly to abstract methods. '"
      ]
     },
     "execution_count": 109,
     "metadata": {},
     "output_type": "execute_result"
    }
   ],
   "source": [
    "# 12. Describe the use of abstract properties in Python and how they can be employed in abstract classes.\n",
    "\n",
    "''' Use of abstract properties in Python:\n",
    "Abstract properties are properties declared in an abstract class without an implementation. They are used to enforce the presence of certain attributes in concrete classes. Abstract properties can be employed in abstract classes similarly to abstract methods. '''\n",
    "\n"
   ]
  },
  {
   "cell_type": "code",
   "execution_count": 111,
   "id": "1e6f58ca-6c85-42d1-99c3-a2e49a72d9f3",
   "metadata": {},
   "outputs": [
    {
     "name": "stdout",
     "output_type": "stream",
     "text": [
      "sourabh's salary: 80000\n",
      "Ram's salary: 60000\n",
      "virat's salary: 70000\n"
     ]
    }
   ],
   "source": [
    "# 13. Create a Python class hierarchy for employees in a company (e.g., manager, developer, designer) and implement abstraction by defining a common `get_salary()` method.\n",
    "\n",
    "# Python class hierarchy for employees:\n",
    "\n",
    "from abc import ABC, abstractmethod\n",
    "\n",
    "class Employee(ABC):\n",
    "    def __init__(self, name, role):\n",
    "        self.name = name\n",
    "        self.role = role\n",
    "\n",
    "    @abstractmethod\n",
    "    def get_salary(self):\n",
    "        pass\n",
    "\n",
    "class Manager(Employee):\n",
    "    def get_salary(self):\n",
    "        return 80000  # Example salary for a manager\n",
    "\n",
    "class Developer(Employee):\n",
    "    def get_salary(self):\n",
    "        return 60000  # Example salary for a developer\n",
    "\n",
    "class Designer(Employee):\n",
    "    def get_salary(self):\n",
    "        return 70000  # Example salary for a designer\n",
    "\n",
    "# Example Usage:\n",
    "manager = Manager(\"sourabh\", \"Manager\")\n",
    "developer = Developer(\"Ram\", \"Developer\")\n",
    "designer = Designer(\"virat\", \"Designer\")\n",
    "\n",
    "print(f\"{manager.name}'s salary: {manager.get_salary()}\")\n",
    "print(f\"{developer.name}'s salary: {developer.get_salary()}\")\n",
    "print(f\"{designer.name}'s salary: {designer.get_salary()}\")\n",
    "\n",
    "\n",
    "''' Here, Employee is an abstract base class with an abstract method get_salary. Manager, Developer, and Designer are concrete classes that inherit from Employee and provide their implementations.\n",
    "\n",
    " '''"
   ]
  },
  {
   "cell_type": "code",
   "execution_count": 112,
   "id": "8dcddac0-c9f8-4945-bc87-151f36bfcc88",
   "metadata": {},
   "outputs": [
    {
     "data": {
      "text/plain": [
       "' Differences between abstract classes and concrete classes:\\nAbstract classes:\\n\\nCannot be instantiated.\\nMay contain abstract methods or properties.\\nUsed as a blueprint for other classes.\\nConcrete classes:\\n\\nCan be instantiated.\\nMust implement all methods or properties defined in the class.'"
      ]
     },
     "execution_count": 112,
     "metadata": {},
     "output_type": "execute_result"
    }
   ],
   "source": [
    "# 14. Discuss the differences between abstract classes and concrete classes in Python, including their instantiation.\n",
    "\n",
    "''' Differences between abstract classes and concrete classes:\n",
    "Abstract classes:\n",
    "\n",
    "Cannot be instantiated.\n",
    "May contain abstract methods or properties.\n",
    "Used as a blueprint for other classes.\n",
    "Concrete classes:\n",
    "\n",
    "Can be instantiated.\n",
    "Must implement all methods or properties defined in the class.'''"
   ]
  },
  {
   "cell_type": "code",
   "execution_count": 113,
   "id": "7163840b-6c4d-47a4-a4f6-65c91d4f6556",
   "metadata": {},
   "outputs": [
    {
     "data": {
      "text/plain": [
       "' Abstract Data Types (ADTs) and their role in achieving abstraction:\\nAbstract Data Types (ADTs) are high-level descriptions of data structures and the operations that can be performed on them. They provide a way to represent and manipulate data, abstracting away the implementation details. In Python, classes and objects can be used to create ADTs, promoting code organization and encapsulation.'"
      ]
     },
     "execution_count": 113,
     "metadata": {},
     "output_type": "execute_result"
    }
   ],
   "source": [
    "# 15. Explain the concept of abstract data types (ADTs) and their role in achieving abstraction in Python.\n",
    "\n",
    "''' Abstract Data Types (ADTs) and their role in achieving abstraction:\n",
    "Abstract Data Types (ADTs) are high-level descriptions of data structures and the operations that can be performed on them. They provide a way to represent and manipulate data, abstracting away the implementation details. In Python, classes and objects can be used to create ADTs, promoting code organization and encapsulation.'''"
   ]
  },
  {
   "cell_type": "code",
   "execution_count": 114,
   "id": "909e31e9-50d8-4011-8725-9925eb94d654",
   "metadata": {},
   "outputs": [
    {
     "name": "stdout",
     "output_type": "stream",
     "text": [
      "Laptop powered on.\n",
      "Laptop shut down.\n",
      "Desktop powered on.\n",
      "Desktop shut down.\n"
     ]
    }
   ],
   "source": [
    "# 16. Create a Python class for a computer system, demonstrating abstraction by defining common methods (e.g., `power_on()`, `shutdown()`) in an abstract base class.\n",
    "\n",
    "# Python class for a Computer System demonstrating abstraction:\n",
    "\n",
    "\n",
    "from abc import ABC, abstractmethod\n",
    "\n",
    "class ComputerSystem(ABC):\n",
    "    @abstractmethod\n",
    "    def power_on(self):\n",
    "        pass\n",
    "\n",
    "    @abstractmethod\n",
    "    def shutdown(self):\n",
    "        pass\n",
    "\n",
    "class Laptop(ComputerSystem):\n",
    "    def power_on(self):\n",
    "        print(\"Laptop powered on.\")\n",
    "\n",
    "    def shutdown(self):\n",
    "        print(\"Laptop shut down.\")\n",
    "\n",
    "class Desktop(ComputerSystem):\n",
    "    def power_on(self):\n",
    "        print(\"Desktop powered on.\")\n",
    "\n",
    "    def shutdown(self):\n",
    "        print(\"Desktop shut down.\")\n",
    "\n",
    "# Example Usage:\n",
    "laptop = Laptop()\n",
    "laptop.power_on()\n",
    "laptop.shutdown()\n",
    "\n",
    "desktop = Desktop()\n",
    "desktop.power_on()\n",
    "desktop.shutdown()\n",
    "\n",
    "\n",
    "''' Here, ComputerSystem is an abstract base class with abstract methods power_on and shutdown. Laptop and Desktop are concrete classes that inherit from ComputerSystem and provide their implementations.'''\n"
   ]
  },
  {
   "cell_type": "code",
   "execution_count": 115,
   "id": "b979bc36-9143-4881-a4de-e3c3b04c8f86",
   "metadata": {},
   "outputs": [
    {
     "data": {
      "text/plain": [
       "'Benefits of using abstraction in large-scale software development projects:\\nModularity: Abstraction allows breaking down a system into manageable and independent modules, making it easier to develop and maintain.\\n\\nReadability: Abstracting away implementation details improves code readability, making it easier for developers to understand and collaborate.\\n\\nFlexibility: Abstraction provides a level of flexibility by allowing changes to the internal implementation without affecting the external interface. '"
      ]
     },
     "execution_count": 115,
     "metadata": {},
     "output_type": "execute_result"
    }
   ],
   "source": [
    "# 17. Discuss the benefits of using abstraction in large-scale software development projects.\n",
    "\n",
    "'''Benefits of using abstraction in large-scale software development projects:\n",
    "Modularity: Abstraction allows breaking down a system into manageable and independent modules, making it easier to develop and maintain.\n",
    "\n",
    "Readability: Abstracting away implementation details improves code readability, making it easier for developers to understand and collaborate.\n",
    "\n",
    "Flexibility: Abstraction provides a level of flexibility by allowing changes to the internal implementation without affecting the external interface. '''"
   ]
  },
  {
   "cell_type": "code",
   "execution_count": 116,
   "id": "60616115-69d1-46a5-b554-abfb74b4e87f",
   "metadata": {},
   "outputs": [
    {
     "data": {
      "text/plain": [
       "' How abstraction enhances code reusability and modularity:\\nAbstraction promotes code reusability by providing a clear and standardized interface for different components. Modules or classes that adhere to the same abstraction can be easily swapped or reused without affecting the overall system functionality.'"
      ]
     },
     "execution_count": 116,
     "metadata": {},
     "output_type": "execute_result"
    }
   ],
   "source": [
    "# 18. Explain how abstraction enhances code reusability and modularity in Python programs.\n",
    "\n",
    "''' How abstraction enhances code reusability and modularity:\n",
    "Abstraction promotes code reusability by providing a clear and standardized interface for different components. Modules or classes that adhere to the same abstraction can be easily swapped or reused without affecting the overall system functionality.'''"
   ]
  },
  {
   "cell_type": "code",
   "execution_count": 117,
   "id": "f6688341-ef24-4653-aed0-c53dd9cd210b",
   "metadata": {},
   "outputs": [
    {
     "name": "stdout",
     "output_type": "stream",
     "text": [
      "Book added to public library.\n",
      "Book borrowed from public library.\n",
      "Book added to school library.\n",
      "Book borrowed from school library.\n"
     ]
    }
   ],
   "source": [
    "# 19. Create a Python class for a library system, implementing abstraction by defining common methods (e.g., `add_book()`, `borrow_book()`) in an abstract base class.\n",
    "\n",
    "# Python class for a Library System demonstrating abstraction:\n",
    "\n",
    "\n",
    "from abc import ABC, abstractmethod\n",
    "\n",
    "class LibrarySystem(ABC):\n",
    "    @abstractmethod\n",
    "    def add_book(self):\n",
    "        pass\n",
    "\n",
    "    @abstractmethod\n",
    "    def borrow_book(self):\n",
    "        pass\n",
    "\n",
    "class PublicLibrary(LibrarySystem):\n",
    "    def add_book(self):\n",
    "        print(\"Book added to public library.\")\n",
    "\n",
    "    def borrow_book(self):\n",
    "        print(\"Book borrowed from public library.\")\n",
    "\n",
    "class SchoolLibrary(LibrarySystem):\n",
    "    def add_book(self):\n",
    "        print(\"Book added to school library.\")\n",
    "\n",
    "    def borrow_book(self):\n",
    "        print(\"Book borrowed from school library.\")\n",
    "\n",
    "# Example Usage:\n",
    "public_library = PublicLibrary()\n",
    "public_library.add_book()\n",
    "public_library.borrow_book()\n",
    "\n",
    "school_library = SchoolLibrary()\n",
    "school_library.add_book()\n",
    "school_library.borrow_book()\n",
    "\n",
    "\n",
    "''' Here, LibrarySystem is an abstract base class with abstract methods add_book and borrow_book. PublicLibrary and SchoolLibrary are concrete classes that inherit from LibrarySystem and provide their implementations.'''"
   ]
  },
  {
   "cell_type": "code",
   "execution_count": 118,
   "id": "e175fdb6-a2be-4df1-8343-2958ee725efa",
   "metadata": {},
   "outputs": [
    {
     "data": {
      "text/plain": [
       "'Concept of method abstraction and its relation to polymorphism:\\nMethod abstraction involves defining methods in a base class without specifying the implementation. This is closely related to polymorphism, where objects of different classes can be treated as objects of a common base class. Method abstraction allows different classes to provide their implementations for the same method, enabling polymorphic behavior.\\n\\nIn the examples above, method abstraction is demonstrated through abstract methods like calculate_area, start, stop, and get_salary. Polymorphism is achieved when concrete classes implement these methods in their own way.\\n'"
      ]
     },
     "execution_count": 118,
     "metadata": {},
     "output_type": "execute_result"
    }
   ],
   "source": [
    "# 20. Describe the concept of method abstraction in Python and how it relates to polymorphism.\n",
    "\n",
    "'''Concept of method abstraction and its relation to polymorphism:\n",
    "Method abstraction involves defining methods in a base class without specifying the implementation. This is closely related to polymorphism, where objects of different classes can be treated as objects of a common base class. Method abstraction allows different classes to provide their implementations for the same method, enabling polymorphic behavior.\n",
    "\n",
    "In the examples above, method abstraction is demonstrated through abstract methods like calculate_area, start, stop, and get_salary. Polymorphism is achieved when concrete classes implement these methods in their own way.\n",
    "'''\n"
   ]
  },
  {
   "cell_type": "code",
   "execution_count": 119,
   "id": "1bb25e83-821c-4819-a793-62e608698345",
   "metadata": {},
   "outputs": [],
   "source": [
    "# Composition:-!!"
   ]
  },
  {
   "cell_type": "code",
   "execution_count": 120,
   "id": "344c630a-971f-4dfe-8eb0-3aa5b4bfef4d",
   "metadata": {},
   "outputs": [
    {
     "data": {
      "text/plain": [
       "' Composition in Python:\\nComposition is a design principle in object-oriented programming (OOP) where a class contains objects of other classes, helping to build complex objects by combining simpler ones. It involves creating relationships between classes by making one class a component of another. '"
      ]
     },
     "execution_count": 120,
     "metadata": {},
     "output_type": "execute_result"
    }
   ],
   "source": [
    "# 1. Explain the concept of composition in Python and how it is used to build complex objects from simpler ones.\n",
    "\n",
    "''' Composition in Python:\n",
    "Composition is a design principle in object-oriented programming (OOP) where a class contains objects of other classes, helping to build complex objects by combining simpler ones. It involves creating relationships between classes by making one class a component of another. '''\n"
   ]
  },
  {
   "cell_type": "code",
   "execution_count": 121,
   "id": "8403de46-fa3b-46b2-9538-06e202fd90c5",
   "metadata": {},
   "outputs": [
    {
     "data": {
      "text/plain": [
       "' Composition vs. Inheritance:\\nComposition: Combines objects to create more complex ones. It is often considered more flexible and promotes code reuse.\\n\\nInheritance: Allows a class to inherit properties and behaviors from another class. While it provides code reuse, it can lead to tight coupling and inflexibility.'"
      ]
     },
     "execution_count": 121,
     "metadata": {},
     "output_type": "execute_result"
    }
   ],
   "source": [
    "# 2. Describe the difference between composition and inheritance in object-oriented programming.\n",
    "\n",
    "''' Composition vs. Inheritance:\n",
    "Composition: Combines objects to create more complex ones. It is often considered more flexible and promotes code reuse.\n",
    "\n",
    "Inheritance: Allows a class to inherit properties and behaviors from another class. While it provides code reuse, it can lead to tight coupling and inflexibility.'''"
   ]
  },
  {
   "cell_type": "code",
   "execution_count": 125,
   "id": "bb7cabbc-3441-4e97-8034-cf2682ea9e9c",
   "metadata": {},
   "outputs": [],
   "source": [
    "# 3. Create a Python class called `Author` with attributes for name and birthdate. Then, create a `Book` class that contains an instance of `Author` as a composition. Provide an example of creating a `Book` object.\n",
    "\n",
    "# Author and Book Classes:\n",
    "\n",
    "class Author:\n",
    "    def __init__(self, name, birthdate):\n",
    "        self.name = name\n",
    "        self.birthdate = birthdate\n",
    "\n",
    "class Book:\n",
    "    def __init__(self, title, author, publish_date):\n",
    "        self.title = title\n",
    "        self.author = author  # Composition of Author class\n",
    "        self.publish_date = publish_date\n",
    "\n",
    "# Example usage:\n",
    "author_sourabh = Author(\"sourabh\", \"January 1, 1980\")\n",
    "book_example = Book(\"Example Book\", author_sourabh, \"January 1, 2022\")\n"
   ]
  },
  {
   "cell_type": "code",
   "execution_count": 126,
   "id": "f77dbb97-5b2e-4cc7-b8c5-fbed795d447c",
   "metadata": {},
   "outputs": [
    {
     "data": {
      "text/plain": [
       "' Benefits of Composition:\\nFlexibility: Composition allows you to change the behavior of a class dynamically by changing its components.\\n\\nCode Reusability: Promotes reuse of existing classes, making it easier to maintain and extend the codebase.'"
      ]
     },
     "execution_count": 126,
     "metadata": {},
     "output_type": "execute_result"
    }
   ],
   "source": [
    "# 4. Discuss the benefits of using composition over inheritance in Python, especially in terms of code flexibility and reusability.\n",
    "\n",
    "''' Benefits of Composition:\n",
    "Flexibility: Composition allows you to change the behavior of a class dynamically by changing its components.\n",
    "\n",
    "Code Reusability: Promotes reuse of existing classes, making it easier to maintain and extend the codebase.'''"
   ]
  },
  {
   "cell_type": "code",
   "execution_count": 127,
   "id": "4a728868-b826-4584-902f-2300a40944e4",
   "metadata": {},
   "outputs": [
    {
     "name": "stdout",
     "output_type": "stream",
     "text": [
      "Engine started\n"
     ]
    }
   ],
   "source": [
    "# 5. How can you implement composition in Python classes? Provide examples of using composition to create complex objects.\n",
    "\n",
    "# Implementing Composition in Python:\n",
    "\n",
    "class Engine:\n",
    "    def start(self):\n",
    "        print(\"Engine started\")\n",
    "\n",
    "class Car:\n",
    "    def __init__(self):\n",
    "        self.engine = Engine()  # Composition of Engine class\n",
    "\n",
    "# Example usage:\n",
    "my_car = Car()\n",
    "my_car.engine.start()  # Accessing behavior through composition\n"
   ]
  },
  {
   "cell_type": "code",
   "execution_count": 128,
   "id": "c6e2d5ed-72c9-40f0-a237-4288fbb101c8",
   "metadata": {},
   "outputs": [
    {
     "name": "stdout",
     "output_type": "stream",
     "text": [
      "Playing song\n",
      "Playing song\n"
     ]
    }
   ],
   "source": [
    "# 6. Create a Python class hierarchy for a music player system, using composition to represent playlists and songs.\n",
    "\n",
    "# Music Player System with Composition:\n",
    "\n",
    "class Song:\n",
    "    def play(self):\n",
    "        print(\"Playing song\")\n",
    "\n",
    "class Playlist:\n",
    "    def __init__(self):\n",
    "        self.songs = [Song(), Song()]  # Composition of Song class\n",
    "\n",
    "# Example usage:\n",
    "my_playlist = Playlist()\n",
    "for song in my_playlist.songs:\n",
    "    song.play()\n"
   ]
  },
  {
   "cell_type": "code",
   "execution_count": 129,
   "id": "58819e09-836a-4660-861c-9fe6b675d071",
   "metadata": {},
   "outputs": [
    {
     "data": {
      "text/plain": [
       "' \"Has-A\" Relationships:\\n\"Has-A\" relationships signify that a class has another class as a component. It helps in designing software systems by representing the relationships between different entities.'"
      ]
     },
     "execution_count": 129,
     "metadata": {},
     "output_type": "execute_result"
    }
   ],
   "source": [
    "# 7. Explain the concept of \"has-a\" relationships in composition and how it helps design software systems.\n",
    "\n",
    "''' \"Has-A\" Relationships:\n",
    "\"Has-A\" relationships signify that a class has another class as a component. It helps in designing software systems by representing the relationships between different entities.'''"
   ]
  },
  {
   "cell_type": "code",
   "execution_count": 130,
   "id": "e3898993-5497-450e-89e1-6ee4e86810fd",
   "metadata": {},
   "outputs": [
    {
     "name": "stdout",
     "output_type": "stream",
     "text": [
      "Processing data\n"
     ]
    }
   ],
   "source": [
    "# 8. Create a Python class for a computer system, using composition to represent components like CPU, RAM, and storage devices.\n",
    "\n",
    "# Computer System with Composition:\n",
    "\n",
    "class CPU:\n",
    "    def process(self):\n",
    "        print(\"Processing data\")\n",
    "\n",
    "class Computer:\n",
    "    def __init__(self):\n",
    "        self.cpu = CPU()  # Composition of CPU class\n",
    "\n",
    "# Example usage:\n",
    "my_computer = Computer()\n",
    "my_computer.cpu.process()  # Accessing behavior through composition\n"
   ]
  },
  {
   "cell_type": "code",
   "execution_count": 131,
   "id": "028421b8-8136-4107-aa20-ce65ec2e1bc8",
   "metadata": {},
   "outputs": [
    {
     "data": {
      "text/plain": [
       "' 9. Describe the concept of \"delegation\" in composition and how it simplifies the design of complex systems.'"
      ]
     },
     "execution_count": 131,
     "metadata": {},
     "output_type": "execute_result"
    }
   ],
   "source": [
    "# 9. Describe the concept of \"delegation\" in composition and how it simplifies the design of complex systems.\n",
    "\n",
    "''' 9. Describe the concept of \"delegation\" in composition and how it simplifies the design of complex systems.'''"
   ]
  },
  {
   "cell_type": "code",
   "execution_count": 132,
   "id": "144aeb33-6d19-4e4c-a62c-9d70e5ca3ea1",
   "metadata": {},
   "outputs": [
    {
     "name": "stdout",
     "output_type": "stream",
     "text": [
      "Engine started\n",
      "Wheels rotating\n"
     ]
    }
   ],
   "source": [
    "# 10. Create a Python class for a car, using composition to represent components like the engine, wheels, and transmission.\n",
    "\n",
    "# Car Class with Composition:\n",
    "\n",
    "\n",
    "class Engine:\n",
    "    def start(self):\n",
    "        print(\"Engine started\")\n",
    "\n",
    "class Wheels:\n",
    "    def rotate(self):\n",
    "        print(\"Wheels rotating\")\n",
    "\n",
    "class Car:\n",
    "    def __init__(self):\n",
    "        self.engine = Engine()  # Composition of Engine class\n",
    "        self.wheels = Wheels()  # Composition of Wheels class\n",
    "\n",
    "# Example usage:\n",
    "my_car = Car()\n",
    "my_car.engine.start()  # Accessing behavior through composition\n",
    "my_car.wheels.rotate()  # Accessing behavior through composition\n"
   ]
  },
  {
   "cell_type": "code",
   "execution_count": 133,
   "id": "bf7348d2-bd4a-42f6-8d4a-cb8579c30dcb",
   "metadata": {},
   "outputs": [
    {
     "name": "stdout",
     "output_type": "stream",
     "text": [
      "Engine started\n"
     ]
    }
   ],
   "source": [
    "# 11. How can you encapsulate and hide the details of composed objects in Python classes to maintain abstraction?\n",
    "\n",
    "''' https://chat.openai.com/c/06916a01-46cf-41b9-ab74-49671a86bf73#:~:text=Encapsulating%20and%20Hiding,class%20from%20before%3A'''\n",
    "\n",
    "class Car:\n",
    "    def __init__(self):\n",
    "        self._engine = Engine()  # Composition of Engine class (private)\n",
    "\n",
    "    def start(self):\n",
    "        self._engine.start()  # Accessing behavior through composition\n",
    "\n",
    "# Example usage:\n",
    "my_car = Car()\n",
    "my_car.start()  # Accessing behavior without exposing details\n"
   ]
  },
  {
   "cell_type": "code",
   "execution_count": 134,
   "id": "a4244c19-f9f7-430a-9ade-04befbeb1f8f",
   "metadata": {},
   "outputs": [],
   "source": [
    "# 12. Create a Python class for a university course, using composition to represent students, instructors, and course materials.\n",
    "\n",
    "#  University Course Class:\n",
    "\n",
    "class Student:\n",
    "    pass  # Assume there's a Student class\n",
    "\n",
    "class Instructor:\n",
    "    pass  # Assume there's an Instructor class\n",
    "\n",
    "class Course:\n",
    "    def __init__(self, name, instructor, students, materials):\n",
    "        self.name = name\n",
    "        self.instructor = instructor  # Composition of Instructor class\n",
    "        self.students = students  # Composition of Student class (list)\n",
    "        self.materials = materials  # Composition of course materials (e.g., textbooks)\n"
   ]
  },
  {
   "cell_type": "code",
   "execution_count": 135,
   "id": "923a0ce9-8b5c-4c80-a9f7-07310fdf9343",
   "metadata": {},
   "outputs": [
    {
     "data": {
      "text/plain": [
       "' Challenges and Drawbacks of Composition:\\nIncreased Complexity: As the number of composed objects grows, managing interactions can become complex.\\n\\nPotential for Tight Coupling: If not managed carefully, changing the internals of one class might affect others. '"
      ]
     },
     "execution_count": 135,
     "metadata": {},
     "output_type": "execute_result"
    }
   ],
   "source": [
    "# 13. Discuss the challenges and drawbacks of composition, such as increased complexity and potential for tight coupling between objects.\n",
    "\n",
    "''' Challenges and Drawbacks of Composition:\n",
    "Increased Complexity: As the number of composed objects grows, managing interactions can become complex.\n",
    "\n",
    "Potential for Tight Coupling: If not managed carefully, changing the internals of one class might affect others. '''\n",
    "\n"
   ]
  },
  {
   "cell_type": "code",
   "execution_count": 136,
   "id": "37323fd4-00be-460c-9ea8-4520701a7eeb",
   "metadata": {},
   "outputs": [],
   "source": [
    "# 14. Create a Python class hierarchy for a restaurant system, using composition to represent menus, dishes, and ingredients.\n",
    "\n",
    "# Restaurant System Class Hierarchy:\n",
    "\n",
    "class Ingredient:\n",
    "    pass  # Assume there's an Ingredient class\n",
    "\n",
    "class Dish:\n",
    "    def __init__(self, name, ingredients):\n",
    "        self.name = name\n",
    "        self.ingredients = ingredients  # Composition of Ingredient class (list)\n",
    "\n",
    "class Menu:\n",
    "    def __init__(self, name, dishes):\n",
    "        self.name = name\n",
    "        self.dishes = dishes  # Composition of Dish class (list)\n"
   ]
  },
  {
   "cell_type": "code",
   "execution_count": 137,
   "id": "af6b32db-e2a8-4f5a-83be-b16be4b19768",
   "metadata": {},
   "outputs": [
    {
     "data": {
      "text/plain": [
       "' . Composition for Code Maintainability:\\nModularity: Each class focuses on a specific responsibility, making it easier to understand and maintain.\\n\\nReusability: Composed objects can be reused in various contexts, promoting a modular and reusable codebase. '"
      ]
     },
     "execution_count": 137,
     "metadata": {},
     "output_type": "execute_result"
    }
   ],
   "source": [
    "# 15. Explain how composition enhances code maintainability and modularity in Python programs.\n",
    "\n",
    "''' . Composition for Code Maintainability:\n",
    "Modularity: Each class focuses on a specific responsibility, making it easier to understand and maintain.\n",
    "\n",
    "Reusability: Composed objects can be reused in various contexts, promoting a modular and reusable codebase. '''"
   ]
  },
  {
   "cell_type": "code",
   "execution_count": 138,
   "id": "58dd3bb8-ac2a-42d1-8a70-b3fcc98c5490",
   "metadata": {},
   "outputs": [],
   "source": [
    "# 16. Create a Python class for a computer game character, using composition to represent attributes like weapons, armor, and inventory.\n",
    "\n",
    "# Computer Game Character Class:\n",
    "\n",
    "class Weapon:\n",
    "    pass  # Assume there's a Weapon class\n",
    "\n",
    "class Armor:\n",
    "    pass  # Assume there's an Armor class\n",
    "\n",
    "class Inventory:\n",
    "    pass  # Assume there's an Inventory class\n",
    "\n",
    "class GameCharacter:\n",
    "    def __init__(self, weapon, armor, inventory):\n",
    "        self.weapon = weapon  # Composition of Weapon class\n",
    "        self.armor = armor  # Composition of Armor class\n",
    "        self.inventory = inventory  # Composition of Inventory class\n"
   ]
  },
  {
   "cell_type": "code",
   "execution_count": 139,
   "id": "4e5a06c9-533d-4627-b428-d3e59f9ff47d",
   "metadata": {},
   "outputs": [
    {
     "data": {
      "text/plain": [
       "' Aggregation vs. Simple Composition:\\nAggregation implies a weaker relationship where the composed object can exist independently. In simple composition, the composed object is an integral part of the containing object.'"
      ]
     },
     "execution_count": 139,
     "metadata": {},
     "output_type": "execute_result"
    }
   ],
   "source": [
    "# 17. Describe the concept of \"aggregation\" in composition and how it differs from simple composition.\n",
    "\n",
    "''' Aggregation vs. Simple Composition:\n",
    "Aggregation implies a weaker relationship where the composed object can exist independently. In simple composition, the composed object is an integral part of the containing object.'''"
   ]
  },
  {
   "cell_type": "code",
   "execution_count": 140,
   "id": "596b2bdc-f412-4d86-a576-54cd8f7f2f60",
   "metadata": {},
   "outputs": [],
   "source": [
    "# 18. Create a Python class for a house, using composition to represent rooms, furniture, and appliances.\n",
    "\n",
    "# House Class:\n",
    "\n",
    "\n",
    "class Room:\n",
    "    pass  # Assume there's a Room class\n",
    "\n",
    "class Furniture:\n",
    "    pass  # Assume there's a Furniture class\n",
    "\n",
    "class Appliance:\n",
    "    pass  # Assume there's an Appliance class\n",
    "\n",
    "class House:\n",
    "    def __init__(self, rooms, furniture, appliances):\n",
    "        self.rooms = rooms  # Composition of Room class (list)\n",
    "        self.furniture = furniture  # Composition of Furniture class (list)\n",
    "        self.appliances = appliances  # Composition of Appliance class (list)\n"
   ]
  },
  {
   "cell_type": "code",
   "execution_count": 141,
   "id": "75bb10bb-4ccc-4aba-868a-57c74869b7ff",
   "metadata": {},
   "outputs": [
    {
     "data": {
      "text/plain": [
       "'  Achieving Flexibility at Runtime:\\nAllow dynamic replacement or modification by providing methods to set or update the composed objects. For example, adding a method to change the weapon of a game character dynamically.\\n\\n'"
      ]
     },
     "execution_count": 141,
     "metadata": {},
     "output_type": "execute_result"
    }
   ],
   "source": [
    "# 19. How can you achieve flexibility in composed objects by allowing them to be replaced or modified dynamically at runtime?\n",
    "\n",
    "'''  Achieving Flexibility at Runtime:\n",
    "Allow dynamic replacement or modification by providing methods to set or update the composed objects. For example, adding a method to change the weapon of a game character dynamically.\n",
    "\n",
    "'''"
   ]
  },
  {
   "cell_type": "code",
   "execution_count": 142,
   "id": "271c7412-51b8-48a3-b437-aaa7088746b6",
   "metadata": {},
   "outputs": [],
   "source": [
    "# 20. Create a Python class for a social media application, using composition to represent users, posts, and comments.\n",
    "\n",
    "# Social Media Application Class:\n",
    "\n",
    "class User:\n",
    "    pass  # Assume there's a User class\n",
    "\n",
    "class Post:\n",
    "    pass  # Assume there's a Post class\n",
    "\n",
    "class Comment:\n",
    "    pass  # Assume there's a Comment class\n",
    "\n",
    "class SocialMediaApp:\n",
    "    def __init__(self, users, posts, comments):\n",
    "        self.users = users  # Composition of User class (list)\n",
    "        self.posts = posts  # Composition of Post class (list)\n",
    "        self.comments = comments  # Composition of Comment class (list)\n"
   ]
  },
  {
   "cell_type": "code",
   "execution_count": null,
   "id": "dad122b5-ef2f-4605-b8c9-12a66d41155b",
   "metadata": {},
   "outputs": [],
   "source": []
  }
 ],
 "metadata": {
  "kernelspec": {
   "display_name": "Python 3 (ipykernel)",
   "language": "python",
   "name": "python3"
  },
  "language_info": {
   "codemirror_mode": {
    "name": "ipython",
    "version": 3
   },
   "file_extension": ".py",
   "mimetype": "text/x-python",
   "name": "python",
   "nbconvert_exporter": "python",
   "pygments_lexer": "ipython3",
   "version": "3.10.12"
  }
 },
 "nbformat": 4,
 "nbformat_minor": 5
}
